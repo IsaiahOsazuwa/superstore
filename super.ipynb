{
 "cells": [
  {
   "cell_type": "code",
   "execution_count": 89,
   "id": "2756a880",
   "metadata": {
    "scrolled": true
   },
   "outputs": [
    {
     "ename": "ImportError",
     "evalue": "cannot import name 'train_test_split' from 'sklearn' (C:\\Users\\osazu\\anaconda3\\lib\\site-packages\\sklearn\\__init__.py)",
     "output_type": "error",
     "traceback": [
      "\u001b[1;31m---------------------------------------------------------------------------\u001b[0m",
      "\u001b[1;31mImportError\u001b[0m                               Traceback (most recent call last)",
      "\u001b[1;32m~\\AppData\\Local\\Temp/ipykernel_16368/371798871.py\u001b[0m in \u001b[0;36m<module>\u001b[1;34m\u001b[0m\n\u001b[0;32m      5\u001b[0m \u001b[1;32mimport\u001b[0m \u001b[0mstatsmodels\u001b[0m\u001b[1;33m.\u001b[0m\u001b[0mapi\u001b[0m \u001b[1;32mas\u001b[0m \u001b[0msm\u001b[0m\u001b[1;33m\u001b[0m\u001b[1;33m\u001b[0m\u001b[0m\n\u001b[0;32m      6\u001b[0m \u001b[1;32mfrom\u001b[0m \u001b[0msklearn\u001b[0m \u001b[1;32mimport\u001b[0m \u001b[0mlinear_model\u001b[0m\u001b[1;33m\u001b[0m\u001b[1;33m\u001b[0m\u001b[0m\n\u001b[1;32m----> 7\u001b[1;33m \u001b[1;32mfrom\u001b[0m \u001b[0msklearn\u001b[0m \u001b[1;32mimport\u001b[0m \u001b[0mtrain_test_split\u001b[0m\u001b[1;33m\u001b[0m\u001b[1;33m\u001b[0m\u001b[0m\n\u001b[0m",
      "\u001b[1;31mImportError\u001b[0m: cannot import name 'train_test_split' from 'sklearn' (C:\\Users\\osazu\\anaconda3\\lib\\site-packages\\sklearn\\__init__.py)"
     ]
    }
   ],
   "source": [
    "import numpy as np\n",
    "import pandas as pd\n",
    "import matplotlib.pyplot as plt\n",
    "import seaborn as sns\n",
    "import statsmodels.api as sm\n",
    "from sklearn import linear_model\n"
   ]
  },
  {
   "cell_type": "code",
   "execution_count": 90,
   "id": "fe26ee84",
   "metadata": {},
   "outputs": [],
   "source": [
    "from sklearn.model_selection import train_test_split\n",
    "from sklearn.linear_model import LinearRegression  "
   ]
  },
  {
   "cell_type": "markdown",
   "id": "4a71af7a",
   "metadata": {},
   "source": [
    "### Gathering and Accessing the data"
   ]
  },
  {
   "cell_type": "code",
   "execution_count": 2,
   "id": "9188b5bc",
   "metadata": {
    "scrolled": true
   },
   "outputs": [
    {
     "data": {
      "text/html": [
       "<div>\n",
       "<style scoped>\n",
       "    .dataframe tbody tr th:only-of-type {\n",
       "        vertical-align: middle;\n",
       "    }\n",
       "\n",
       "    .dataframe tbody tr th {\n",
       "        vertical-align: top;\n",
       "    }\n",
       "\n",
       "    .dataframe thead th {\n",
       "        text-align: right;\n",
       "    }\n",
       "</style>\n",
       "<table border=\"1\" class=\"dataframe\">\n",
       "  <thead>\n",
       "    <tr style=\"text-align: right;\">\n",
       "      <th></th>\n",
       "      <th>Row ID</th>\n",
       "      <th>Order ID</th>\n",
       "      <th>Order Date</th>\n",
       "      <th>Ship Date</th>\n",
       "      <th>Ship Mode</th>\n",
       "      <th>Customer ID</th>\n",
       "      <th>Customer Name</th>\n",
       "      <th>Segment</th>\n",
       "      <th>Country</th>\n",
       "      <th>City</th>\n",
       "      <th>...</th>\n",
       "      <th>Postal Code</th>\n",
       "      <th>Region</th>\n",
       "      <th>Product ID</th>\n",
       "      <th>Category</th>\n",
       "      <th>Sub-Category</th>\n",
       "      <th>Product Name</th>\n",
       "      <th>Sales</th>\n",
       "      <th>Quantity</th>\n",
       "      <th>Discount</th>\n",
       "      <th>Profit</th>\n",
       "    </tr>\n",
       "  </thead>\n",
       "  <tbody>\n",
       "    <tr>\n",
       "      <th>0</th>\n",
       "      <td>1</td>\n",
       "      <td>CA-2016-152156</td>\n",
       "      <td>11/08/2016</td>\n",
       "      <td>11/11/2016</td>\n",
       "      <td>Second Class</td>\n",
       "      <td>CG-12520</td>\n",
       "      <td>Claire Gute</td>\n",
       "      <td>Consumer</td>\n",
       "      <td>United States</td>\n",
       "      <td>Henderson</td>\n",
       "      <td>...</td>\n",
       "      <td>42420</td>\n",
       "      <td>South</td>\n",
       "      <td>FUR-BO-10001798</td>\n",
       "      <td>Furniture</td>\n",
       "      <td>Bookcases</td>\n",
       "      <td>Bush Somerset Collection Bookcase</td>\n",
       "      <td>261.9600</td>\n",
       "      <td>2</td>\n",
       "      <td>0.00</td>\n",
       "      <td>41.9136</td>\n",
       "    </tr>\n",
       "    <tr>\n",
       "      <th>1</th>\n",
       "      <td>2</td>\n",
       "      <td>CA-2016-152156</td>\n",
       "      <td>11/08/2016</td>\n",
       "      <td>11/11/2016</td>\n",
       "      <td>Second Class</td>\n",
       "      <td>CG-12520</td>\n",
       "      <td>Claire Gute</td>\n",
       "      <td>Consumer</td>\n",
       "      <td>United States</td>\n",
       "      <td>Henderson</td>\n",
       "      <td>...</td>\n",
       "      <td>42420</td>\n",
       "      <td>South</td>\n",
       "      <td>FUR-CH-10000454</td>\n",
       "      <td>Furniture</td>\n",
       "      <td>Chairs</td>\n",
       "      <td>Hon Deluxe Fabric Upholstered Stacking Chairs,...</td>\n",
       "      <td>731.9400</td>\n",
       "      <td>3</td>\n",
       "      <td>0.00</td>\n",
       "      <td>219.5820</td>\n",
       "    </tr>\n",
       "    <tr>\n",
       "      <th>2</th>\n",
       "      <td>3</td>\n",
       "      <td>CA-2016-138688</td>\n",
       "      <td>06/12/2016</td>\n",
       "      <td>6/16/2016</td>\n",
       "      <td>Second Class</td>\n",
       "      <td>DV-13045</td>\n",
       "      <td>Darrin Van Huff</td>\n",
       "      <td>Corporate</td>\n",
       "      <td>United States</td>\n",
       "      <td>Los Angeles</td>\n",
       "      <td>...</td>\n",
       "      <td>90036</td>\n",
       "      <td>West</td>\n",
       "      <td>OFF-LA-10000240</td>\n",
       "      <td>Office Supplies</td>\n",
       "      <td>Labels</td>\n",
       "      <td>Self-Adhesive Address Labels for Typewriters b...</td>\n",
       "      <td>14.6200</td>\n",
       "      <td>2</td>\n",
       "      <td>0.00</td>\n",
       "      <td>6.8714</td>\n",
       "    </tr>\n",
       "    <tr>\n",
       "      <th>3</th>\n",
       "      <td>4</td>\n",
       "      <td>US-2015-108966</td>\n",
       "      <td>10/11/2015</td>\n",
       "      <td>10/18/2015</td>\n",
       "      <td>Standard Class</td>\n",
       "      <td>SO-20335</td>\n",
       "      <td>Sean O'Donnell</td>\n",
       "      <td>Consumer</td>\n",
       "      <td>United States</td>\n",
       "      <td>Fort Lauderdale</td>\n",
       "      <td>...</td>\n",
       "      <td>33311</td>\n",
       "      <td>South</td>\n",
       "      <td>FUR-TA-10000577</td>\n",
       "      <td>Furniture</td>\n",
       "      <td>Tables</td>\n",
       "      <td>Bretford CR4500 Series Slim Rectangular Table</td>\n",
       "      <td>957.5775</td>\n",
       "      <td>5</td>\n",
       "      <td>0.45</td>\n",
       "      <td>-383.0310</td>\n",
       "    </tr>\n",
       "    <tr>\n",
       "      <th>4</th>\n",
       "      <td>5</td>\n",
       "      <td>US-2015-108966</td>\n",
       "      <td>10/11/2015</td>\n",
       "      <td>10/18/2015</td>\n",
       "      <td>Standard Class</td>\n",
       "      <td>SO-20335</td>\n",
       "      <td>Sean O'Donnell</td>\n",
       "      <td>Consumer</td>\n",
       "      <td>United States</td>\n",
       "      <td>Fort Lauderdale</td>\n",
       "      <td>...</td>\n",
       "      <td>33311</td>\n",
       "      <td>South</td>\n",
       "      <td>OFF-ST-10000760</td>\n",
       "      <td>Office Supplies</td>\n",
       "      <td>Storage</td>\n",
       "      <td>Eldon Fold 'N Roll Cart System</td>\n",
       "      <td>22.3680</td>\n",
       "      <td>2</td>\n",
       "      <td>0.20</td>\n",
       "      <td>2.5164</td>\n",
       "    </tr>\n",
       "  </tbody>\n",
       "</table>\n",
       "<p>5 rows × 21 columns</p>\n",
       "</div>"
      ],
      "text/plain": [
       "   Row ID        Order ID  Order Date   Ship Date       Ship Mode Customer ID  \\\n",
       "0       1  CA-2016-152156  11/08/2016  11/11/2016    Second Class    CG-12520   \n",
       "1       2  CA-2016-152156  11/08/2016  11/11/2016    Second Class    CG-12520   \n",
       "2       3  CA-2016-138688  06/12/2016   6/16/2016    Second Class    DV-13045   \n",
       "3       4  US-2015-108966  10/11/2015  10/18/2015  Standard Class    SO-20335   \n",
       "4       5  US-2015-108966  10/11/2015  10/18/2015  Standard Class    SO-20335   \n",
       "\n",
       "     Customer Name    Segment        Country             City  ...  \\\n",
       "0      Claire Gute   Consumer  United States        Henderson  ...   \n",
       "1      Claire Gute   Consumer  United States        Henderson  ...   \n",
       "2  Darrin Van Huff  Corporate  United States      Los Angeles  ...   \n",
       "3   Sean O'Donnell   Consumer  United States  Fort Lauderdale  ...   \n",
       "4   Sean O'Donnell   Consumer  United States  Fort Lauderdale  ...   \n",
       "\n",
       "  Postal Code  Region       Product ID         Category Sub-Category  \\\n",
       "0       42420   South  FUR-BO-10001798        Furniture    Bookcases   \n",
       "1       42420   South  FUR-CH-10000454        Furniture       Chairs   \n",
       "2       90036    West  OFF-LA-10000240  Office Supplies       Labels   \n",
       "3       33311   South  FUR-TA-10000577        Furniture       Tables   \n",
       "4       33311   South  OFF-ST-10000760  Office Supplies      Storage   \n",
       "\n",
       "                                        Product Name     Sales  Quantity  \\\n",
       "0                  Bush Somerset Collection Bookcase  261.9600         2   \n",
       "1  Hon Deluxe Fabric Upholstered Stacking Chairs,...  731.9400         3   \n",
       "2  Self-Adhesive Address Labels for Typewriters b...   14.6200         2   \n",
       "3      Bretford CR4500 Series Slim Rectangular Table  957.5775         5   \n",
       "4                     Eldon Fold 'N Roll Cart System   22.3680         2   \n",
       "\n",
       "   Discount    Profit  \n",
       "0      0.00   41.9136  \n",
       "1      0.00  219.5820  \n",
       "2      0.00    6.8714  \n",
       "3      0.45 -383.0310  \n",
       "4      0.20    2.5164  \n",
       "\n",
       "[5 rows x 21 columns]"
      ]
     },
     "execution_count": 2,
     "metadata": {},
     "output_type": "execute_result"
    }
   ],
   "source": [
    "#df = pd.read_excel('storedata.xlsx')\n",
    "df = pd.read_csv('superstore.csv', encoding='unicode-escape')\n",
    "df.head()"
   ]
  },
  {
   "cell_type": "code",
   "execution_count": 3,
   "id": "ead53448",
   "metadata": {},
   "outputs": [
    {
     "name": "stdout",
     "output_type": "stream",
     "text": [
      "<class 'pandas.core.frame.DataFrame'>\n",
      "RangeIndex: 9994 entries, 0 to 9993\n",
      "Data columns (total 21 columns):\n",
      " #   Column         Non-Null Count  Dtype  \n",
      "---  ------         --------------  -----  \n",
      " 0   Row ID         9994 non-null   int64  \n",
      " 1   Order ID       9994 non-null   object \n",
      " 2   Order Date     9994 non-null   object \n",
      " 3   Ship Date      9994 non-null   object \n",
      " 4   Ship Mode      9994 non-null   object \n",
      " 5   Customer ID    9994 non-null   object \n",
      " 6   Customer Name  9994 non-null   object \n",
      " 7   Segment        9994 non-null   object \n",
      " 8   Country        9994 non-null   object \n",
      " 9   City           9994 non-null   object \n",
      " 10  State          9994 non-null   object \n",
      " 11  Postal Code    9994 non-null   int64  \n",
      " 12  Region         9994 non-null   object \n",
      " 13  Product ID     9994 non-null   object \n",
      " 14  Category       9994 non-null   object \n",
      " 15  Sub-Category   9994 non-null   object \n",
      " 16  Product Name   9994 non-null   object \n",
      " 17  Sales          9994 non-null   float64\n",
      " 18  Quantity       9994 non-null   int64  \n",
      " 19  Discount       9994 non-null   float64\n",
      " 20  Profit         9994 non-null   float64\n",
      "dtypes: float64(3), int64(3), object(15)\n",
      "memory usage: 1.6+ MB\n"
     ]
    }
   ],
   "source": [
    "df.info()"
   ]
  },
  {
   "cell_type": "code",
   "execution_count": 4,
   "id": "bcb3dba8",
   "metadata": {},
   "outputs": [
    {
     "data": {
      "text/plain": [
       "0"
      ]
     },
     "execution_count": 4,
     "metadata": {},
     "output_type": "execute_result"
    }
   ],
   "source": [
    "# check for duplicated enteries\n",
    "df.duplicated().sum()"
   ]
  },
  {
   "cell_type": "code",
   "execution_count": 5,
   "id": "94c25c15",
   "metadata": {},
   "outputs": [
    {
     "data": {
      "text/plain": [
       "Row ID           0\n",
       "Order ID         0\n",
       "Order Date       0\n",
       "Ship Date        0\n",
       "Ship Mode        0\n",
       "Customer ID      0\n",
       "Customer Name    0\n",
       "Segment          0\n",
       "Country          0\n",
       "City             0\n",
       "State            0\n",
       "Postal Code      0\n",
       "Region           0\n",
       "Product ID       0\n",
       "Category         0\n",
       "Sub-Category     0\n",
       "Product Name     0\n",
       "Sales            0\n",
       "Quantity         0\n",
       "Discount         0\n",
       "Profit           0\n",
       "dtype: int64"
      ]
     },
     "execution_count": 5,
     "metadata": {},
     "output_type": "execute_result"
    }
   ],
   "source": [
    "# check for missing values\n",
    "df.isnull().sum()"
   ]
  },
  {
   "cell_type": "code",
   "execution_count": 6,
   "id": "bf096067",
   "metadata": {},
   "outputs": [
    {
     "data": {
      "text/plain": [
       "Index(['Row ID', 'Order ID', 'Order Date', 'Ship Date', 'Ship Mode',\n",
       "       'Customer ID', 'Customer Name', 'Segment', 'Country', 'City', 'State',\n",
       "       'Postal Code', 'Region', 'Product ID', 'Category', 'Sub-Category',\n",
       "       'Product Name', 'Sales', 'Quantity', 'Discount', 'Profit'],\n",
       "      dtype='object')"
      ]
     },
     "execution_count": 6,
     "metadata": {},
     "output_type": "execute_result"
    }
   ],
   "source": [
    "df.columns"
   ]
  },
  {
   "cell_type": "code",
   "execution_count": 7,
   "id": "75d4e8a5",
   "metadata": {},
   "outputs": [],
   "source": [
    "# Rename columns for better access\n",
    "df.rename(columns={\n",
    "    'Row ID':'row_id', \n",
    "    'Order ID':'order_id',\n",
    "    'Order Date':'order_date',\n",
    "    'Ship Date':'ship_date',\n",
    "    'Ship Mode':'ship_mode',\n",
    "    'Customer ID':'customer_id',\n",
    "    'Customer Name':'customer_name', \n",
    "    'Segment':'segment',\n",
    "    'Country':'country',\n",
    "    'City': 'city',\n",
    "    'State':'state',\n",
    "    'Postal Code':'postal_code',\n",
    "    'Region':'region',\n",
    "    'Product ID':'product_id',\n",
    "    'Category':'category',\n",
    "    'Sub-Category':'sub_category',\n",
    "    'Product Name':'product_name',\n",
    "    'Sales':'sales',\n",
    "    'Quantity':'quantity',\n",
    "    'Discount':'discount',\n",
    "    'Profit':'profit'\n",
    "}, inplace=True)"
   ]
  },
  {
   "cell_type": "code",
   "execution_count": 8,
   "id": "cbcee37e",
   "metadata": {},
   "outputs": [
    {
     "data": {
      "text/plain": [
       "array(['Consumer', 'Corporate', 'Home Office'], dtype=object)"
      ]
     },
     "execution_count": 8,
     "metadata": {},
     "output_type": "execute_result"
    }
   ],
   "source": [
    "df.segment.unique()"
   ]
  },
  {
   "cell_type": "code",
   "execution_count": 9,
   "id": "a6a6fa56",
   "metadata": {},
   "outputs": [
    {
     "data": {
      "text/plain": [
       "array(['Second Class', 'Standard Class', 'First Class', 'Same Day'],\n",
       "      dtype=object)"
      ]
     },
     "execution_count": 9,
     "metadata": {},
     "output_type": "execute_result"
    }
   ],
   "source": [
    "df.ship_mode.unique()"
   ]
  },
  {
   "cell_type": "code",
   "execution_count": 10,
   "id": "27e02e9f",
   "metadata": {},
   "outputs": [
    {
     "data": {
      "text/plain": [
       "array([42420, 90036, 33311, 90032, 28027, 98103, 76106, 53711, 84084,\n",
       "       94109, 68025, 19140, 84057, 90049, 77095, 75080, 77041, 60540,\n",
       "       32935, 55122, 48185, 19901, 47150, 10024, 12180, 90004, 60610,\n",
       "       85234, 22153, 10009, 49201, 38109, 77070, 35601, 94122, 27707,\n",
       "       60623, 29203, 55901, 55407, 97206, 55106, 80013, 28205, 60462,\n",
       "       10035, 50322, 43229, 37620, 19805, 61701, 85023, 95661, 64055,\n",
       "       91104, 43055, 53132, 85254, 95123, 98105, 98115, 73034, 90045,\n",
       "       19134, 88220, 78207, 77036, 62521, 71203,  6824, 75051, 92374,\n",
       "       45011,  7090, 19120, 44312, 80219, 75220, 37064, 90604, 48601,\n",
       "       44256, 43017, 48227, 38401, 33614, 95051, 55044, 92037, 77506,\n",
       "       94513, 27514,  7960, 45231, 94110, 90301, 33319, 80906,  7109,\n",
       "       48180,  8701, 22204, 80004,  7601, 33710, 19143, 90805, 92345,\n",
       "       37130, 84041, 78745,  1852, 31907,  6040, 78550, 85705, 62301,\n",
       "        2038, 33024, 98198, 61604, 89115,  2886, 33180, 28403, 92646,\n",
       "       40475, 80027,  1841, 39212, 48187, 10801, 28052, 32216, 47201,\n",
       "       13021, 73071, 94521, 60068, 79109, 11757, 90008, 92024, 77340,\n",
       "       14609, 72701, 92627, 80134, 30318, 64118, 59405, 48234, 33801,\n",
       "       36116, 85204, 60653, 54302, 45503, 92804, 98270, 97301, 78041,\n",
       "       75217, 43123, 10011, 48126, 31088, 94591, 92691, 48307,  7060,\n",
       "       85635, 98661, 60505, 76017, 40214, 75081, 44105, 75701, 27217,\n",
       "       22980, 19013, 27511, 32137, 10550, 48205, 33012, 11572, 92105,\n",
       "       60201, 48183, 55016, 71111, 50315, 93534, 23223, 28806, 92530,\n",
       "       68104, 98026, 92704, 53209, 41042, 44052,  7036, 93905,  8901,\n",
       "       17602,  3301, 21044, 75043,  6360, 22304, 43615, 87401, 92503,\n",
       "       90503, 78664, 92054, 33433, 23464, 92563, 28540, 52601, 98502,\n",
       "       20016, 65109, 63376, 61107, 33142, 78521, 10701, 94601, 28110,\n",
       "       20735, 30076, 72401, 47374, 94509, 33030, 46350, 48911, 44221,\n",
       "       89502, 22801, 92025, 48073, 20852, 33065, 14215, 33437, 39503,\n",
       "       93727, 27834, 11561, 35630, 31204, 52402,  2908, 81001, 94533,\n",
       "       32725, 42071,  6457, 11520, 90660, 84604, 84062, 30080, 24153,\n",
       "       44134, 36608,  2740, 75061,  8360, 85301, 14304, 27360, 92683,\n",
       "       38301, 75019, 91767, 89031, 18103, 19711, 85281, 92677,  8302,\n",
       "        2149, 13601, 54915, 98006, 75002, 79907, 76051, 75007, 37167,\n",
       "       98031, 70506, 97224, 60076, 75023, 23434, 46203,  7002, 28314,\n",
       "       27405, 21215, 53142, 66062, 98002, 74133, 97756, 27604, 74403,\n",
       "        6450, 42104, 46614,  6010, 89015, 99207, 76248, 45014, 32127,\n",
       "       97504, 22901, 59801, 33178, 29501, 97477, 32712, 19601, 80020,\n",
       "       65807,  7501, 73120, 23320, 79424, 65203, 37604, 36830, 92404,\n",
       "        1453, 59715, 85345, 44107,  8861, 91761, 91730, 56560, 75150,\n",
       "       95207, 32174, 94086,  3820, 17403, 77840, 63116,  2169, 95336,\n",
       "       44240, 76903, 84106, 35810, 37918, 72209, 48146, 43302, 80122,\n",
       "        5408,  4401, 38671, 47362, 48640, 57103, 80525, 47905, 37042,\n",
       "       95823, 91360,  2148,  1040, 87105, 89431, 92236, 60126,  7055,\n",
       "       29406, 23602, 14701, 46544, 43402, 92253, 32303, 37211, 98226,\n",
       "       60098, 76117, 60090, 29483, 71901, 80112, 43130, 88001, 35244,\n",
       "       75034, 95687, 84107, 53186, 93309, 33068, 45373, 78415, 90278,\n",
       "       32839,  7050, 70601, 60035, 11550, 46060, 55124, 29464, 48310,\n",
       "       54703, 78577, 59102, 97030, 37421, 83642, 92307, 60440, 55369,\n",
       "       95695, 77489, 77581, 94403, 49505, 93277, 66212, 92592, 92399,\n",
       "        2151, 77301, 60477, 52001, 48127, 87505, 28601, 60188, 56301,\n",
       "       33161, 46226, 33317, 34952, 29730, 79762, 53214, 91911, 66502,\n",
       "       16602, 80229, 61821, 47401, 71854, 78539, 77520, 46142, 90712,\n",
       "        2895, 54880, 76021, 98042, 74012, 33023, 33021, 77536, 67212,\n",
       "       78501, 52240, 83704,  2920, 61032, 77642, 95610, 75056, 98052,\n",
       "       32114, 86442, 46368, 58103, 46514, 91776, 33063, 30328, 44060,\n",
       "       73505, 23666, 13440, 54601, 83501, 39401, 94526, 48858, 84321,\n",
       "        6708, 30605,  4240, 61832, 85323, 30062, 85364, 54401, 99301,\n",
       "       60302, 32503, 77573, 20877, 84043, 35401, 92553, 40324, 80538,\n",
       "       85224, 59601, 63122, 76706, 48066, 60423, 18018, 55113, 68801,\n",
       "       55125, 48237, 72756, 88101, 33458, 93101, 75104, 68701, 84020,\n",
       "       48104, 91941, 83201, 49423,  6460, 60089, 92630, 96003, 95928,\n",
       "       13501, 72032, 82001, 42301, 83605, 70065,  3060, 38134, 94061,\n",
       "       37087, 93454, 60016, 98632, 37075, 50701,  2138, 60067,  1915,\n",
       "       97405, 93030, 98059, 60025, 33445, 80022, 77590, 27893, 87124,\n",
       "       27534, 98208, 90640, 92020, 77705, 33407, 79605, 61761, 63301,\n",
       "       60174, 93010, 97123, 91505, 95351, 67846,  8401, 80501, 95616,\n",
       "       26003, 95037,  7011, 53081, 30344, 57701,  1810, 34741,  6484,\n",
       "        6810, 52302, 32771, 78666, 80634, 76063, 44035, 83301, 33134,\n",
       "       60441,  1752, 20707, 77803, 71603, 57401, 21740,  7017, 60004,\n",
       "       60543, 55433, 92672, 94568, 93405, 72762, 95240, 77571, 45040,\n",
       "       30188], dtype=int64)"
      ]
     },
     "execution_count": 10,
     "metadata": {},
     "output_type": "execute_result"
    }
   ],
   "source": [
    "df.postal_code.unique()"
   ]
  },
  {
   "cell_type": "code",
   "execution_count": 11,
   "id": "2ce1912c",
   "metadata": {},
   "outputs": [
    {
     "data": {
      "text/plain": [
       "array(['Furniture', 'Office Supplies', 'Technology'], dtype=object)"
      ]
     },
     "execution_count": 11,
     "metadata": {},
     "output_type": "execute_result"
    }
   ],
   "source": [
    "df.category.unique()"
   ]
  },
  {
   "cell_type": "code",
   "execution_count": 12,
   "id": "2fb5d8ad",
   "metadata": {},
   "outputs": [
    {
     "data": {
      "text/plain": [
       "array(['Bookcases', 'Chairs', 'Labels', 'Tables', 'Storage',\n",
       "       'Furnishings', 'Art', 'Phones', 'Binders', 'Appliances', 'Paper',\n",
       "       'Accessories', 'Envelopes', 'Fasteners', 'Supplies', 'Machines',\n",
       "       'Copiers'], dtype=object)"
      ]
     },
     "execution_count": 12,
     "metadata": {},
     "output_type": "execute_result"
    }
   ],
   "source": [
    "df.sub_category.unique()"
   ]
  },
  {
   "cell_type": "code",
   "execution_count": 13,
   "id": "520e0586",
   "metadata": {},
   "outputs": [
    {
     "data": {
      "text/plain": [
       "array(['United States'], dtype=object)"
      ]
     },
     "execution_count": 13,
     "metadata": {},
     "output_type": "execute_result"
    }
   ],
   "source": [
    "df.country.unique()"
   ]
  },
  {
   "cell_type": "code",
   "execution_count": 14,
   "id": "1a51aa3d",
   "metadata": {},
   "outputs": [
    {
     "data": {
      "text/plain": [
       "49"
      ]
     },
     "execution_count": 14,
     "metadata": {},
     "output_type": "execute_result"
    }
   ],
   "source": [
    "df.state.nunique()"
   ]
  },
  {
   "cell_type": "code",
   "execution_count": 15,
   "id": "f669a403",
   "metadata": {},
   "outputs": [
    {
     "data": {
      "text/plain": [
       "531"
      ]
     },
     "execution_count": 15,
     "metadata": {},
     "output_type": "execute_result"
    }
   ],
   "source": [
    "df.city.nunique()"
   ]
  },
  {
   "cell_type": "code",
   "execution_count": 16,
   "id": "765d924b",
   "metadata": {},
   "outputs": [
    {
     "data": {
      "text/plain": [
       "West       3203\n",
       "East       2848\n",
       "Central    2323\n",
       "South      1620\n",
       "Name: region, dtype: int64"
      ]
     },
     "execution_count": 16,
     "metadata": {},
     "output_type": "execute_result"
    }
   ],
   "source": [
    "df.region.value_counts()"
   ]
  },
  {
   "cell_type": "code",
   "execution_count": 17,
   "id": "1d4a8332",
   "metadata": {},
   "outputs": [
    {
     "data": {
      "text/plain": [
       "1850"
      ]
     },
     "execution_count": 17,
     "metadata": {},
     "output_type": "execute_result"
    }
   ],
   "source": [
    "df.product_name.nunique()"
   ]
  },
  {
   "cell_type": "code",
   "execution_count": 18,
   "id": "20de4d2a",
   "metadata": {},
   "outputs": [
    {
     "data": {
      "text/plain": [
       "1862"
      ]
     },
     "execution_count": 18,
     "metadata": {},
     "output_type": "execute_result"
    }
   ],
   "source": [
    "df.product_id.nunique()"
   ]
  },
  {
   "cell_type": "code",
   "execution_count": 19,
   "id": "832b9393",
   "metadata": {},
   "outputs": [
    {
     "data": {
      "text/plain": [
       "Staple envelope                                                                        48\n",
       "Staples                                                                                46\n",
       "Easy-staple paper                                                                      46\n",
       "Avery Non-Stick Binders                                                                20\n",
       "Staples in misc. colors                                                                19\n",
       "                                                                                       ..\n",
       "Boston 1900 Electric Pencil Sharpener                                                   1\n",
       "RCA ViSYS 25423RE1 Corded phone                                                         1\n",
       "Canon Color ImageCLASS MF8580Cdw Wireless Laser All-In-One Printer, Copier, Scanner     1\n",
       "Newell 342                                                                              1\n",
       "Eldon Jumbo ProFile Portable File Boxes Graphite/Black                                  1\n",
       "Name: product_name, Length: 1850, dtype: int64"
      ]
     },
     "execution_count": 19,
     "metadata": {},
     "output_type": "execute_result"
    }
   ],
   "source": [
    "df.product_name.value_counts()"
   ]
  },
  {
   "cell_type": "code",
   "execution_count": 20,
   "id": "f79a4843",
   "metadata": {},
   "outputs": [
    {
     "data": {
      "text/html": [
       "<div>\n",
       "<style scoped>\n",
       "    .dataframe tbody tr th:only-of-type {\n",
       "        vertical-align: middle;\n",
       "    }\n",
       "\n",
       "    .dataframe tbody tr th {\n",
       "        vertical-align: top;\n",
       "    }\n",
       "\n",
       "    .dataframe thead th {\n",
       "        text-align: right;\n",
       "    }\n",
       "</style>\n",
       "<table border=\"1\" class=\"dataframe\">\n",
       "  <thead>\n",
       "    <tr style=\"text-align: right;\">\n",
       "      <th></th>\n",
       "      <th>row_id</th>\n",
       "      <th>order_id</th>\n",
       "      <th>order_date</th>\n",
       "      <th>ship_date</th>\n",
       "      <th>ship_mode</th>\n",
       "      <th>customer_id</th>\n",
       "      <th>customer_name</th>\n",
       "      <th>segment</th>\n",
       "      <th>country</th>\n",
       "      <th>city</th>\n",
       "      <th>...</th>\n",
       "      <th>postal_code</th>\n",
       "      <th>region</th>\n",
       "      <th>product_id</th>\n",
       "      <th>category</th>\n",
       "      <th>sub_category</th>\n",
       "      <th>product_name</th>\n",
       "      <th>sales</th>\n",
       "      <th>quantity</th>\n",
       "      <th>discount</th>\n",
       "      <th>profit</th>\n",
       "    </tr>\n",
       "  </thead>\n",
       "  <tbody>\n",
       "    <tr>\n",
       "      <th>6848</th>\n",
       "      <td>6849</td>\n",
       "      <td>US-2016-163461</td>\n",
       "      <td>6/18/2016</td>\n",
       "      <td>6/21/2016</td>\n",
       "      <td>First Class</td>\n",
       "      <td>BT-11440</td>\n",
       "      <td>Bobby Trafton</td>\n",
       "      <td>Consumer</td>\n",
       "      <td>United States</td>\n",
       "      <td>Frankfort</td>\n",
       "      <td>...</td>\n",
       "      <td>60423</td>\n",
       "      <td>Central</td>\n",
       "      <td>OFF-PA-10003134</td>\n",
       "      <td>Office Supplies</td>\n",
       "      <td>Paper</td>\n",
       "      <td>Xerox 1937</td>\n",
       "      <td>76.864</td>\n",
       "      <td>2</td>\n",
       "      <td>0.2</td>\n",
       "      <td>26.9024</td>\n",
       "    </tr>\n",
       "    <tr>\n",
       "      <th>6806</th>\n",
       "      <td>6807</td>\n",
       "      <td>CA-2017-162880</td>\n",
       "      <td>12/25/2017</td>\n",
       "      <td>12/29/2017</td>\n",
       "      <td>Standard Class</td>\n",
       "      <td>GD-14590</td>\n",
       "      <td>Giulietta Dortch</td>\n",
       "      <td>Corporate</td>\n",
       "      <td>United States</td>\n",
       "      <td>Everett</td>\n",
       "      <td>...</td>\n",
       "      <td>98208</td>\n",
       "      <td>West</td>\n",
       "      <td>OFF-BI-10003314</td>\n",
       "      <td>Office Supplies</td>\n",
       "      <td>Binders</td>\n",
       "      <td>Tuff Stuff Recycled Round Ring Binders</td>\n",
       "      <td>3.856</td>\n",
       "      <td>1</td>\n",
       "      <td>0.2</td>\n",
       "      <td>1.3978</td>\n",
       "    </tr>\n",
       "    <tr>\n",
       "      <th>4303</th>\n",
       "      <td>4304</td>\n",
       "      <td>CA-2016-121601</td>\n",
       "      <td>10/04/2016</td>\n",
       "      <td>10/04/2016</td>\n",
       "      <td>Same Day</td>\n",
       "      <td>MO-17500</td>\n",
       "      <td>Mary O'Rourke</td>\n",
       "      <td>Consumer</td>\n",
       "      <td>United States</td>\n",
       "      <td>The Colony</td>\n",
       "      <td>...</td>\n",
       "      <td>75056</td>\n",
       "      <td>Central</td>\n",
       "      <td>OFF-EN-10003862</td>\n",
       "      <td>Office Supplies</td>\n",
       "      <td>Envelopes</td>\n",
       "      <td>Laser &amp; Ink Jet Business Envelopes</td>\n",
       "      <td>59.752</td>\n",
       "      <td>7</td>\n",
       "      <td>0.2</td>\n",
       "      <td>19.4194</td>\n",
       "    </tr>\n",
       "    <tr>\n",
       "      <th>6018</th>\n",
       "      <td>6019</td>\n",
       "      <td>CA-2014-102652</td>\n",
       "      <td>04/06/2014</td>\n",
       "      <td>04/12/2014</td>\n",
       "      <td>Standard Class</td>\n",
       "      <td>AY-10555</td>\n",
       "      <td>Andy Yotov</td>\n",
       "      <td>Corporate</td>\n",
       "      <td>United States</td>\n",
       "      <td>Los Angeles</td>\n",
       "      <td>...</td>\n",
       "      <td>90049</td>\n",
       "      <td>West</td>\n",
       "      <td>OFF-PA-10001977</td>\n",
       "      <td>Office Supplies</td>\n",
       "      <td>Paper</td>\n",
       "      <td>Xerox 194</td>\n",
       "      <td>55.480</td>\n",
       "      <td>1</td>\n",
       "      <td>0.0</td>\n",
       "      <td>26.6304</td>\n",
       "    </tr>\n",
       "    <tr>\n",
       "      <th>6820</th>\n",
       "      <td>6821</td>\n",
       "      <td>CA-2017-163860</td>\n",
       "      <td>12/28/2017</td>\n",
       "      <td>01/01/2018</td>\n",
       "      <td>Standard Class</td>\n",
       "      <td>LO-17170</td>\n",
       "      <td>Lori Olson</td>\n",
       "      <td>Corporate</td>\n",
       "      <td>United States</td>\n",
       "      <td>Peoria</td>\n",
       "      <td>...</td>\n",
       "      <td>61604</td>\n",
       "      <td>Central</td>\n",
       "      <td>FUR-CH-10004698</td>\n",
       "      <td>Furniture</td>\n",
       "      <td>Chairs</td>\n",
       "      <td>Padded Folding Chairs, Black, 4/Carton</td>\n",
       "      <td>113.372</td>\n",
       "      <td>2</td>\n",
       "      <td>0.3</td>\n",
       "      <td>-3.2392</td>\n",
       "    </tr>\n",
       "    <tr>\n",
       "      <th>9449</th>\n",
       "      <td>9450</td>\n",
       "      <td>CA-2014-140032</td>\n",
       "      <td>09/08/2014</td>\n",
       "      <td>9/13/2014</td>\n",
       "      <td>Standard Class</td>\n",
       "      <td>TS-21340</td>\n",
       "      <td>Toby Swindell</td>\n",
       "      <td>Consumer</td>\n",
       "      <td>United States</td>\n",
       "      <td>San Francisco</td>\n",
       "      <td>...</td>\n",
       "      <td>94109</td>\n",
       "      <td>West</td>\n",
       "      <td>OFF-BI-10000822</td>\n",
       "      <td>Office Supplies</td>\n",
       "      <td>Binders</td>\n",
       "      <td>Acco PRESSTEX Data Binder with Storage Hooks, ...</td>\n",
       "      <td>8.608</td>\n",
       "      <td>2</td>\n",
       "      <td>0.2</td>\n",
       "      <td>3.0128</td>\n",
       "    </tr>\n",
       "    <tr>\n",
       "      <th>9171</th>\n",
       "      <td>9172</td>\n",
       "      <td>US-2016-155768</td>\n",
       "      <td>12/01/2016</td>\n",
       "      <td>12/01/2016</td>\n",
       "      <td>Same Day</td>\n",
       "      <td>LB-16795</td>\n",
       "      <td>Laurel Beltran</td>\n",
       "      <td>Home Office</td>\n",
       "      <td>United States</td>\n",
       "      <td>Oxnard</td>\n",
       "      <td>...</td>\n",
       "      <td>93030</td>\n",
       "      <td>West</td>\n",
       "      <td>OFF-PA-10001357</td>\n",
       "      <td>Office Supplies</td>\n",
       "      <td>Paper</td>\n",
       "      <td>Xerox 1886</td>\n",
       "      <td>47.900</td>\n",
       "      <td>1</td>\n",
       "      <td>0.0</td>\n",
       "      <td>22.9920</td>\n",
       "    </tr>\n",
       "    <tr>\n",
       "      <th>3690</th>\n",
       "      <td>3691</td>\n",
       "      <td>US-2015-131359</td>\n",
       "      <td>10/30/2015</td>\n",
       "      <td>11/02/2015</td>\n",
       "      <td>Second Class</td>\n",
       "      <td>FA-14230</td>\n",
       "      <td>Frank Atkinson</td>\n",
       "      <td>Corporate</td>\n",
       "      <td>United States</td>\n",
       "      <td>Denver</td>\n",
       "      <td>...</td>\n",
       "      <td>80219</td>\n",
       "      <td>West</td>\n",
       "      <td>TEC-MA-10000597</td>\n",
       "      <td>Technology</td>\n",
       "      <td>Machines</td>\n",
       "      <td>Lexmark S315 Color Inkjet Printer</td>\n",
       "      <td>59.994</td>\n",
       "      <td>2</td>\n",
       "      <td>0.7</td>\n",
       "      <td>-45.9954</td>\n",
       "    </tr>\n",
       "    <tr>\n",
       "      <th>161</th>\n",
       "      <td>162</td>\n",
       "      <td>CA-2015-119697</td>\n",
       "      <td>12/28/2015</td>\n",
       "      <td>12/31/2015</td>\n",
       "      <td>Second Class</td>\n",
       "      <td>EM-13960</td>\n",
       "      <td>Eric Murdock</td>\n",
       "      <td>Consumer</td>\n",
       "      <td>United States</td>\n",
       "      <td>Philadelphia</td>\n",
       "      <td>...</td>\n",
       "      <td>19134</td>\n",
       "      <td>East</td>\n",
       "      <td>TEC-AC-10003657</td>\n",
       "      <td>Technology</td>\n",
       "      <td>Accessories</td>\n",
       "      <td>Lenovo 17-Key USB Numeric Keypad</td>\n",
       "      <td>54.384</td>\n",
       "      <td>2</td>\n",
       "      <td>0.2</td>\n",
       "      <td>1.3596</td>\n",
       "    </tr>\n",
       "    <tr>\n",
       "      <th>8774</th>\n",
       "      <td>8775</td>\n",
       "      <td>CA-2015-132276</td>\n",
       "      <td>2/23/2015</td>\n",
       "      <td>2/28/2015</td>\n",
       "      <td>Standard Class</td>\n",
       "      <td>LC-16960</td>\n",
       "      <td>Lindsay Castell</td>\n",
       "      <td>Home Office</td>\n",
       "      <td>United States</td>\n",
       "      <td>New York City</td>\n",
       "      <td>...</td>\n",
       "      <td>10024</td>\n",
       "      <td>East</td>\n",
       "      <td>OFF-BI-10002982</td>\n",
       "      <td>Office Supplies</td>\n",
       "      <td>Binders</td>\n",
       "      <td>Avery Self-Adhesive Photo Pockets for Polaroid...</td>\n",
       "      <td>10.896</td>\n",
       "      <td>2</td>\n",
       "      <td>0.2</td>\n",
       "      <td>3.8136</td>\n",
       "    </tr>\n",
       "  </tbody>\n",
       "</table>\n",
       "<p>10 rows × 21 columns</p>\n",
       "</div>"
      ],
      "text/plain": [
       "      row_id        order_id  order_date   ship_date       ship_mode  \\\n",
       "6848    6849  US-2016-163461   6/18/2016   6/21/2016     First Class   \n",
       "6806    6807  CA-2017-162880  12/25/2017  12/29/2017  Standard Class   \n",
       "4303    4304  CA-2016-121601  10/04/2016  10/04/2016        Same Day   \n",
       "6018    6019  CA-2014-102652  04/06/2014  04/12/2014  Standard Class   \n",
       "6820    6821  CA-2017-163860  12/28/2017  01/01/2018  Standard Class   \n",
       "9449    9450  CA-2014-140032  09/08/2014   9/13/2014  Standard Class   \n",
       "9171    9172  US-2016-155768  12/01/2016  12/01/2016        Same Day   \n",
       "3690    3691  US-2015-131359  10/30/2015  11/02/2015    Second Class   \n",
       "161      162  CA-2015-119697  12/28/2015  12/31/2015    Second Class   \n",
       "8774    8775  CA-2015-132276   2/23/2015   2/28/2015  Standard Class   \n",
       "\n",
       "     customer_id     customer_name      segment        country           city  \\\n",
       "6848    BT-11440     Bobby Trafton     Consumer  United States      Frankfort   \n",
       "6806    GD-14590  Giulietta Dortch    Corporate  United States        Everett   \n",
       "4303    MO-17500     Mary O'Rourke     Consumer  United States     The Colony   \n",
       "6018    AY-10555        Andy Yotov    Corporate  United States    Los Angeles   \n",
       "6820    LO-17170        Lori Olson    Corporate  United States         Peoria   \n",
       "9449    TS-21340     Toby Swindell     Consumer  United States  San Francisco   \n",
       "9171    LB-16795    Laurel Beltran  Home Office  United States         Oxnard   \n",
       "3690    FA-14230    Frank Atkinson    Corporate  United States         Denver   \n",
       "161     EM-13960      Eric Murdock     Consumer  United States   Philadelphia   \n",
       "8774    LC-16960   Lindsay Castell  Home Office  United States  New York City   \n",
       "\n",
       "      ... postal_code   region       product_id         category sub_category  \\\n",
       "6848  ...       60423  Central  OFF-PA-10003134  Office Supplies        Paper   \n",
       "6806  ...       98208     West  OFF-BI-10003314  Office Supplies      Binders   \n",
       "4303  ...       75056  Central  OFF-EN-10003862  Office Supplies    Envelopes   \n",
       "6018  ...       90049     West  OFF-PA-10001977  Office Supplies        Paper   \n",
       "6820  ...       61604  Central  FUR-CH-10004698        Furniture       Chairs   \n",
       "9449  ...       94109     West  OFF-BI-10000822  Office Supplies      Binders   \n",
       "9171  ...       93030     West  OFF-PA-10001357  Office Supplies        Paper   \n",
       "3690  ...       80219     West  TEC-MA-10000597       Technology     Machines   \n",
       "161   ...       19134     East  TEC-AC-10003657       Technology  Accessories   \n",
       "8774  ...       10024     East  OFF-BI-10002982  Office Supplies      Binders   \n",
       "\n",
       "                                           product_name    sales  quantity  \\\n",
       "6848                                         Xerox 1937   76.864         2   \n",
       "6806             Tuff Stuff Recycled Round Ring Binders    3.856         1   \n",
       "4303                 Laser & Ink Jet Business Envelopes   59.752         7   \n",
       "6018                                          Xerox 194   55.480         1   \n",
       "6820             Padded Folding Chairs, Black, 4/Carton  113.372         2   \n",
       "9449  Acco PRESSTEX Data Binder with Storage Hooks, ...    8.608         2   \n",
       "9171                                         Xerox 1886   47.900         1   \n",
       "3690                  Lexmark S315 Color Inkjet Printer   59.994         2   \n",
       "161                    Lenovo 17-Key USB Numeric Keypad   54.384         2   \n",
       "8774  Avery Self-Adhesive Photo Pockets for Polaroid...   10.896         2   \n",
       "\n",
       "      discount   profit  \n",
       "6848       0.2  26.9024  \n",
       "6806       0.2   1.3978  \n",
       "4303       0.2  19.4194  \n",
       "6018       0.0  26.6304  \n",
       "6820       0.3  -3.2392  \n",
       "9449       0.2   3.0128  \n",
       "9171       0.0  22.9920  \n",
       "3690       0.7 -45.9954  \n",
       "161        0.2   1.3596  \n",
       "8774       0.2   3.8136  \n",
       "\n",
       "[10 rows x 21 columns]"
      ]
     },
     "execution_count": 20,
     "metadata": {},
     "output_type": "execute_result"
    }
   ],
   "source": [
    "df.sample(10)"
   ]
  },
  {
   "cell_type": "markdown",
   "id": "57aa0c0d",
   "metadata": {},
   "source": [
    "#### Quality Issues\n",
    "- order_date and ship_date are string instead of datetime\n",
    "- postal_code column is an interger instead of string\n",
    "- Some postal_code have for four characters instead of five\n",
    "- customer_id is in integer instead of string\n",
    "- country has just one unique and as such should be dropped\n",
    "- row_id is not needed as we have or index row for id already\n",
    "- There are more unique product_id than product_name"
   ]
  },
  {
   "cell_type": "markdown",
   "id": "9aa5063d",
   "metadata": {},
   "source": [
    "### Data Cleaning"
   ]
  },
  {
   "cell_type": "code",
   "execution_count": 21,
   "id": "2faf0f98",
   "metadata": {},
   "outputs": [],
   "source": [
    "# change order_date and ship_date to datetime object\n",
    "df.order_date = pd.to_datetime(df.order_date)\n",
    "df.ship_date = pd.to_datetime(df.ship_date)"
   ]
  },
  {
   "cell_type": "code",
   "execution_count": 22,
   "id": "69f3d489",
   "metadata": {},
   "outputs": [
    {
     "name": "stdout",
     "output_type": "stream",
     "text": [
      "<class 'pandas._libs.tslibs.timestamps.Timestamp'>\n",
      "<class 'pandas._libs.tslibs.timestamps.Timestamp'>\n"
     ]
    }
   ],
   "source": [
    "#Test\n",
    "print(type(df.order_date[0]))\n",
    "print(type(df.ship_date[0]))"
   ]
  },
  {
   "cell_type": "code",
   "execution_count": 23,
   "id": "bddedc9f",
   "metadata": {},
   "outputs": [],
   "source": [
    "# Change postal_code to string\n",
    "df.postal_code = df.postal_code.astype(str)"
   ]
  },
  {
   "cell_type": "code",
   "execution_count": 24,
   "id": "99b7fb0c",
   "metadata": {},
   "outputs": [
    {
     "data": {
      "text/plain": [
       "str"
      ]
     },
     "execution_count": 24,
     "metadata": {},
     "output_type": "execute_result"
    }
   ],
   "source": [
    "# Test\n",
    "type(df.postal_code[0])"
   ]
  },
  {
   "cell_type": "code",
   "execution_count": 25,
   "id": "e59313eb",
   "metadata": {},
   "outputs": [],
   "source": [
    "# Add 0 to postal_code less than five characters\n",
    "df.postal_code = df.postal_code.str.pad(width=5, side='left', fillchar='0')"
   ]
  },
  {
   "cell_type": "code",
   "execution_count": 26,
   "id": "b67b8406",
   "metadata": {},
   "outputs": [
    {
     "data": {
      "text/plain": [
       "array([5], dtype=int64)"
      ]
     },
     "execution_count": 26,
     "metadata": {},
     "output_type": "execute_result"
    }
   ],
   "source": [
    "# Test\n",
    "df.postal_code.str.len().unique()"
   ]
  },
  {
   "cell_type": "code",
   "execution_count": 27,
   "id": "dc177b86",
   "metadata": {},
   "outputs": [],
   "source": [
    "# convert customer_id to string\n",
    "df.customer_id = df.customer_id.astype(str)"
   ]
  },
  {
   "cell_type": "code",
   "execution_count": 28,
   "id": "b52be14a",
   "metadata": {},
   "outputs": [
    {
     "data": {
      "text/plain": [
       "str"
      ]
     },
     "execution_count": 28,
     "metadata": {},
     "output_type": "execute_result"
    }
   ],
   "source": [
    "#Test\n",
    "type(df.customer_id[0])"
   ]
  },
  {
   "cell_type": "code",
   "execution_count": 29,
   "id": "c8edf496",
   "metadata": {},
   "outputs": [],
   "source": [
    "# Drop country and row_id\n",
    "df.drop(columns=['country', 'row_id'], inplace=True)"
   ]
  },
  {
   "cell_type": "code",
   "execution_count": 30,
   "id": "77c862e9",
   "metadata": {
    "scrolled": true
   },
   "outputs": [
    {
     "data": {
      "text/plain": [
       "Index(['order_id', 'order_date', 'ship_date', 'ship_mode', 'customer_id',\n",
       "       'customer_name', 'segment', 'city', 'state', 'postal_code', 'region',\n",
       "       'product_id', 'category', 'sub_category', 'product_name', 'sales',\n",
       "       'quantity', 'discount', 'profit'],\n",
       "      dtype='object')"
      ]
     },
     "execution_count": 30,
     "metadata": {},
     "output_type": "execute_result"
    }
   ],
   "source": [
    "# Test\n",
    "df.columns"
   ]
  },
  {
   "cell_type": "markdown",
   "id": "bf39bd35",
   "metadata": {},
   "source": [
    "### Analysis and Visualization"
   ]
  },
  {
   "cell_type": "code",
   "execution_count": 31,
   "id": "451dc478",
   "metadata": {
    "scrolled": true
   },
   "outputs": [
    {
     "data": {
      "text/plain": [
       "2017    3312\n",
       "2016    2587\n",
       "2015    2102\n",
       "2014    1993\n",
       "Name: order_date, dtype: int64"
      ]
     },
     "execution_count": 31,
     "metadata": {},
     "output_type": "execute_result"
    }
   ],
   "source": [
    "df.order_date.dt.year.value_counts()"
   ]
  },
  {
   "cell_type": "code",
   "execution_count": 32,
   "id": "edfffb46",
   "metadata": {},
   "outputs": [],
   "source": [
    "ath_df = df.copy()"
   ]
  },
  {
   "cell_type": "code",
   "execution_count": 33,
   "id": "404c5916",
   "metadata": {},
   "outputs": [
    {
     "data": {
      "text/plain": [
       "(9994, 19)"
      ]
     },
     "execution_count": 33,
     "metadata": {},
     "output_type": "execute_result"
    }
   ],
   "source": [
    "ath_df.shape"
   ]
  },
  {
   "cell_type": "code",
   "execution_count": 34,
   "id": "25aa46ca",
   "metadata": {},
   "outputs": [],
   "source": [
    "ath_df['year'] = ath_df.order_date.dt.year"
   ]
  },
  {
   "cell_type": "code",
   "execution_count": 35,
   "id": "9530c3f5",
   "metadata": {},
   "outputs": [
    {
     "data": {
      "text/plain": [
       "November     1471\n",
       "December     1408\n",
       "September    1383\n",
       "October       819\n",
       "May           735\n",
       "June          717\n",
       "July          710\n",
       "August        706\n",
       "March         696\n",
       "April         668\n",
       "January       381\n",
       "February      300\n",
       "Name: month, dtype: int64"
      ]
     },
     "execution_count": 35,
     "metadata": {},
     "output_type": "execute_result"
    }
   ],
   "source": [
    "ath_df['month'] = ath_df.order_date.dt.month_name()\n",
    "ath_df.month.value_counts()"
   ]
  },
  {
   "cell_type": "code",
   "execution_count": 36,
   "id": "e2072414",
   "metadata": {},
   "outputs": [
    {
     "data": {
      "text/plain": [
       "Monday       1871\n",
       "Friday       1818\n",
       "Sunday       1710\n",
       "Saturday     1655\n",
       "Thursday     1463\n",
       "Tuesday      1106\n",
       "Wednesday     371\n",
       "Name: week_day, dtype: int64"
      ]
     },
     "execution_count": 36,
     "metadata": {},
     "output_type": "execute_result"
    }
   ],
   "source": [
    "ath_df['week_day'] = ath_df.order_date.dt.day_name()\n",
    "ath_df.week_day.value_counts()"
   ]
  },
  {
   "cell_type": "code",
   "execution_count": 37,
   "id": "f3f3bd7d",
   "metadata": {},
   "outputs": [
    {
     "name": "stderr",
     "output_type": "stream",
     "text": [
      "C:\\Users\\osazu\\AppData\\Local\\Temp/ipykernel_16368/343856050.py:1: FutureWarning: Indexing with multiple keys (implicitly converted to a tuple of keys) will be deprecated, use a list instead.\n",
      "  year_sum = ath_df.groupby('year')['sales', 'profit'].sum()\n"
     ]
    },
    {
     "data": {
      "text/html": [
       "<div>\n",
       "<style scoped>\n",
       "    .dataframe tbody tr th:only-of-type {\n",
       "        vertical-align: middle;\n",
       "    }\n",
       "\n",
       "    .dataframe tbody tr th {\n",
       "        vertical-align: top;\n",
       "    }\n",
       "\n",
       "    .dataframe thead th {\n",
       "        text-align: right;\n",
       "    }\n",
       "</style>\n",
       "<table border=\"1\" class=\"dataframe\">\n",
       "  <thead>\n",
       "    <tr style=\"text-align: right;\">\n",
       "      <th></th>\n",
       "      <th>year</th>\n",
       "      <th>sales</th>\n",
       "      <th>profit</th>\n",
       "    </tr>\n",
       "  </thead>\n",
       "  <tbody>\n",
       "    <tr>\n",
       "      <th>0</th>\n",
       "      <td>2014</td>\n",
       "      <td>484247.4981</td>\n",
       "      <td>49543.9741</td>\n",
       "    </tr>\n",
       "    <tr>\n",
       "      <th>1</th>\n",
       "      <td>2015</td>\n",
       "      <td>470532.5090</td>\n",
       "      <td>61618.6037</td>\n",
       "    </tr>\n",
       "    <tr>\n",
       "      <th>2</th>\n",
       "      <td>2016</td>\n",
       "      <td>609205.5980</td>\n",
       "      <td>81795.1743</td>\n",
       "    </tr>\n",
       "    <tr>\n",
       "      <th>3</th>\n",
       "      <td>2017</td>\n",
       "      <td>733215.2552</td>\n",
       "      <td>93439.2696</td>\n",
       "    </tr>\n",
       "  </tbody>\n",
       "</table>\n",
       "</div>"
      ],
      "text/plain": [
       "   year        sales      profit\n",
       "0  2014  484247.4981  49543.9741\n",
       "1  2015  470532.5090  61618.6037\n",
       "2  2016  609205.5980  81795.1743\n",
       "3  2017  733215.2552  93439.2696"
      ]
     },
     "execution_count": 37,
     "metadata": {},
     "output_type": "execute_result"
    }
   ],
   "source": [
    "year_sum = ath_df.groupby('year')['sales', 'profit'].sum()\n",
    "year_sum.reset_index(inplace=True)\n",
    "year_sum.head()"
   ]
  },
  {
   "cell_type": "code",
   "execution_count": 38,
   "id": "c7ae2bf6",
   "metadata": {},
   "outputs": [
    {
     "data": {
      "text/plain": [
       "<AxesSubplot:xlabel='year', ylabel='sales'>"
      ]
     },
     "execution_count": 38,
     "metadata": {},
     "output_type": "execute_result"
    },
    {
     "data": {
      "image/png": "[encoded data removed]",
      "text/plain": [
       "<Figure size 432x288 with 1 Axes>"
      ]
     },
     "metadata": {
      "needs_background": "light"
     },
     "output_type": "display_data"
    }
   ],
   "source": [
    "sns.barplot(data=year_sum, x='year', y='sales',)"
   ]
  },
  {
   "cell_type": "code",
   "execution_count": 39,
   "id": "3075bfce",
   "metadata": {},
   "outputs": [
    {
     "data": {
      "text/plain": [
       "<AxesSubplot:xlabel='order_date', ylabel='profit'>"
      ]
     },
     "execution_count": 39,
     "metadata": {},
     "output_type": "execute_result"
    },
    {
     "data": {
      "image/png": "[encoded data removed]",
      "text/plain": [
       "<Figure size 1296x648 with 1 Axes>"
      ]
     },
     "metadata": {
      "needs_background": "light"
     },
     "output_type": "display_data"
    }
   ],
   "source": [
    "plt.figure(figsize=(18,9))\n",
    "sns.lineplot(data=ath_df, x = ath_df.order_date, y = 'profit')"
   ]
  },
  {
   "cell_type": "markdown",
   "id": "71661b47",
   "metadata": {},
   "source": [
    "### a. Region analysis"
   ]
  },
  {
   "cell_type": "code",
   "execution_count": 40,
   "id": "a254587d",
   "metadata": {},
   "outputs": [
    {
     "name": "stderr",
     "output_type": "stream",
     "text": [
      "C:\\Users\\osazu\\AppData\\Local\\Temp/ipykernel_16368/1899512984.py:1: FutureWarning: Indexing with multiple keys (implicitly converted to a tuple of keys) will be deprecated, use a list instead.\n",
      "  region_sum = df.groupby('region')['sales', 'profit'].sum()\n"
     ]
    }
   ],
   "source": [
    "region_sum = df.groupby('region')['sales', 'profit'].sum()"
   ]
  },
  {
   "cell_type": "code",
   "execution_count": 41,
   "id": "4ea04f6e",
   "metadata": {
    "scrolled": true
   },
   "outputs": [
    {
     "data": {
      "text/html": [
       "<div>\n",
       "<style scoped>\n",
       "    .dataframe tbody tr th:only-of-type {\n",
       "        vertical-align: middle;\n",
       "    }\n",
       "\n",
       "    .dataframe tbody tr th {\n",
       "        vertical-align: top;\n",
       "    }\n",
       "\n",
       "    .dataframe thead th {\n",
       "        text-align: right;\n",
       "    }\n",
       "</style>\n",
       "<table border=\"1\" class=\"dataframe\">\n",
       "  <thead>\n",
       "    <tr style=\"text-align: right;\">\n",
       "      <th></th>\n",
       "      <th>region</th>\n",
       "      <th>sales</th>\n",
       "      <th>profit</th>\n",
       "    </tr>\n",
       "  </thead>\n",
       "  <tbody>\n",
       "    <tr>\n",
       "      <th>0</th>\n",
       "      <td>Central</td>\n",
       "      <td>501239.8908</td>\n",
       "      <td>39706.3625</td>\n",
       "    </tr>\n",
       "    <tr>\n",
       "      <th>1</th>\n",
       "      <td>East</td>\n",
       "      <td>678781.2400</td>\n",
       "      <td>91522.7800</td>\n",
       "    </tr>\n",
       "    <tr>\n",
       "      <th>2</th>\n",
       "      <td>South</td>\n",
       "      <td>391721.9050</td>\n",
       "      <td>46749.4303</td>\n",
       "    </tr>\n",
       "    <tr>\n",
       "      <th>3</th>\n",
       "      <td>West</td>\n",
       "      <td>725457.8245</td>\n",
       "      <td>108418.4489</td>\n",
       "    </tr>\n",
       "  </tbody>\n",
       "</table>\n",
       "</div>"
      ],
      "text/plain": [
       "    region        sales       profit\n",
       "0  Central  501239.8908   39706.3625\n",
       "1     East  678781.2400   91522.7800\n",
       "2    South  391721.9050   46749.4303\n",
       "3     West  725457.8245  108418.4489"
      ]
     },
     "execution_count": 41,
     "metadata": {},
     "output_type": "execute_result"
    }
   ],
   "source": [
    "region_sum.reset_index(inplace= True)\n",
    "region_sum\n"
   ]
  },
  {
   "cell_type": "code",
   "execution_count": null,
   "id": "f446d339",
   "metadata": {},
   "outputs": [],
   "source": []
  },
  {
   "cell_type": "markdown",
   "id": "5f56c878",
   "metadata": {},
   "source": [
    "#### Q1. Whats the various regions total sales performance?"
   ]
  },
  {
   "cell_type": "code",
   "execution_count": 42,
   "id": "d51f9431",
   "metadata": {},
   "outputs": [
    {
     "data": {
      "text/plain": [
       "<AxesSubplot:xlabel='region', ylabel='sales'>"
      ]
     },
     "execution_count": 42,
     "metadata": {},
     "output_type": "execute_result"
    },
    {
     "data": {
      "image/png": "[encoded data removed]",
      "text/plain": [
       "<Figure size 432x288 with 1 Axes>"
      ]
     },
     "metadata": {
      "needs_background": "light"
     },
     "output_type": "display_data"
    }
   ],
   "source": [
    "\n",
    "sns.barplot(data= region_sum, x = 'region', y = 'sales', color= 'g', order= region_sum.sort_values('sales').region)"
   ]
  },
  {
   "cell_type": "markdown",
   "id": "6a75a934",
   "metadata": {},
   "source": [
    "#### Q2. Whats the various regions total profit performance?"
   ]
  },
  {
   "cell_type": "code",
   "execution_count": 43,
   "id": "59c82b63",
   "metadata": {},
   "outputs": [
    {
     "data": {
      "text/plain": [
       "<AxesSubplot:xlabel='region', ylabel='profit'>"
      ]
     },
     "execution_count": 43,
     "metadata": {},
     "output_type": "execute_result"
    },
    {
     "data": {
      "image/png": "[encoded data removed]",
      "text/plain": [
       "<Figure size 432x288 with 1 Axes>"
      ]
     },
     "metadata": {
      "needs_background": "light"
     },
     "output_type": "display_data"
    }
   ],
   "source": [
    "sns.barplot(data= region_sum, x = 'region', y = 'profit', color= 'g', order= region_sum.sort_values('profit').region)"
   ]
  },
  {
   "cell_type": "code",
   "execution_count": 44,
   "id": "fcd9ab97",
   "metadata": {
    "scrolled": true
   },
   "outputs": [
    {
     "name": "stderr",
     "output_type": "stream",
     "text": [
      "C:\\Users\\osazu\\AppData\\Local\\Temp/ipykernel_16368/3771415778.py:1: FutureWarning: Indexing with multiple keys (implicitly converted to a tuple of keys) will be deprecated, use a list instead.\n",
      "  region_cat = df.groupby(['region','category'])['sales', 'profit'].sum()\n"
     ]
    }
   ],
   "source": [
    "region_cat = df.groupby(['region','category'])['sales', 'profit'].sum()"
   ]
  },
  {
   "cell_type": "code",
   "execution_count": 45,
   "id": "fba00af1",
   "metadata": {
    "scrolled": true
   },
   "outputs": [
    {
     "data": {
      "text/html": [
       "<div>\n",
       "<style scoped>\n",
       "    .dataframe tbody tr th:only-of-type {\n",
       "        vertical-align: middle;\n",
       "    }\n",
       "\n",
       "    .dataframe tbody tr th {\n",
       "        vertical-align: top;\n",
       "    }\n",
       "\n",
       "    .dataframe thead th {\n",
       "        text-align: right;\n",
       "    }\n",
       "</style>\n",
       "<table border=\"1\" class=\"dataframe\">\n",
       "  <thead>\n",
       "    <tr style=\"text-align: right;\">\n",
       "      <th></th>\n",
       "      <th>region</th>\n",
       "      <th>category</th>\n",
       "      <th>sales</th>\n",
       "      <th>profit</th>\n",
       "    </tr>\n",
       "  </thead>\n",
       "  <tbody>\n",
       "    <tr>\n",
       "      <th>0</th>\n",
       "      <td>Central</td>\n",
       "      <td>Furniture</td>\n",
       "      <td>163797.1638</td>\n",
       "      <td>-2871.0494</td>\n",
       "    </tr>\n",
       "    <tr>\n",
       "      <th>1</th>\n",
       "      <td>Central</td>\n",
       "      <td>Office Supplies</td>\n",
       "      <td>167026.4150</td>\n",
       "      <td>8879.9799</td>\n",
       "    </tr>\n",
       "    <tr>\n",
       "      <th>2</th>\n",
       "      <td>Central</td>\n",
       "      <td>Technology</td>\n",
       "      <td>170416.3120</td>\n",
       "      <td>33697.4320</td>\n",
       "    </tr>\n",
       "    <tr>\n",
       "      <th>3</th>\n",
       "      <td>East</td>\n",
       "      <td>Furniture</td>\n",
       "      <td>208291.2040</td>\n",
       "      <td>3046.1658</td>\n",
       "    </tr>\n",
       "    <tr>\n",
       "      <th>4</th>\n",
       "      <td>East</td>\n",
       "      <td>Office Supplies</td>\n",
       "      <td>205516.0550</td>\n",
       "      <td>41014.5791</td>\n",
       "    </tr>\n",
       "    <tr>\n",
       "      <th>5</th>\n",
       "      <td>East</td>\n",
       "      <td>Technology</td>\n",
       "      <td>264973.9810</td>\n",
       "      <td>47462.0351</td>\n",
       "    </tr>\n",
       "    <tr>\n",
       "      <th>6</th>\n",
       "      <td>South</td>\n",
       "      <td>Furniture</td>\n",
       "      <td>117298.6840</td>\n",
       "      <td>6771.2061</td>\n",
       "    </tr>\n",
       "    <tr>\n",
       "      <th>7</th>\n",
       "      <td>South</td>\n",
       "      <td>Office Supplies</td>\n",
       "      <td>125651.3130</td>\n",
       "      <td>19986.3928</td>\n",
       "    </tr>\n",
       "    <tr>\n",
       "      <th>8</th>\n",
       "      <td>South</td>\n",
       "      <td>Technology</td>\n",
       "      <td>148771.9080</td>\n",
       "      <td>19991.8314</td>\n",
       "    </tr>\n",
       "    <tr>\n",
       "      <th>9</th>\n",
       "      <td>West</td>\n",
       "      <td>Furniture</td>\n",
       "      <td>252612.7435</td>\n",
       "      <td>11504.9503</td>\n",
       "    </tr>\n",
       "    <tr>\n",
       "      <th>10</th>\n",
       "      <td>West</td>\n",
       "      <td>Office Supplies</td>\n",
       "      <td>220853.2490</td>\n",
       "      <td>52609.8490</td>\n",
       "    </tr>\n",
       "    <tr>\n",
       "      <th>11</th>\n",
       "      <td>West</td>\n",
       "      <td>Technology</td>\n",
       "      <td>251991.8320</td>\n",
       "      <td>44303.6496</td>\n",
       "    </tr>\n",
       "  </tbody>\n",
       "</table>\n",
       "</div>"
      ],
      "text/plain": [
       "     region         category        sales      profit\n",
       "0   Central        Furniture  163797.1638  -2871.0494\n",
       "1   Central  Office Supplies  167026.4150   8879.9799\n",
       "2   Central       Technology  170416.3120  33697.4320\n",
       "3      East        Furniture  208291.2040   3046.1658\n",
       "4      East  Office Supplies  205516.0550  41014.5791\n",
       "5      East       Technology  264973.9810  47462.0351\n",
       "6     South        Furniture  117298.6840   6771.2061\n",
       "7     South  Office Supplies  125651.3130  19986.3928\n",
       "8     South       Technology  148771.9080  19991.8314\n",
       "9      West        Furniture  252612.7435  11504.9503\n",
       "10     West  Office Supplies  220853.2490  52609.8490\n",
       "11     West       Technology  251991.8320  44303.6496"
      ]
     },
     "execution_count": 45,
     "metadata": {},
     "output_type": "execute_result"
    }
   ],
   "source": [
    "region_cat.reset_index(inplace=True)\n",
    "region_cat"
   ]
  },
  {
   "cell_type": "markdown",
   "id": "3e8c9bd2",
   "metadata": {},
   "source": [
    "#### Q3. What is the regions sales performance by product category"
   ]
  },
  {
   "cell_type": "code",
   "execution_count": 46,
   "id": "c2528f5b",
   "metadata": {},
   "outputs": [
    {
     "data": {
      "text/plain": [
       "<AxesSubplot:xlabel='region', ylabel='sales'>"
      ]
     },
     "execution_count": 46,
     "metadata": {},
     "output_type": "execute_result"
    },
    {
     "data": {
      "image/png": "[encoded data removed]",
      "text/plain": [
       "<Figure size 648x504 with 1 Axes>"
      ]
     },
     "metadata": {
      "needs_background": "light"
     },
     "output_type": "display_data"
    }
   ],
   "source": [
    "plt.figure(figsize= (9, 7))\n",
    "sns.barplot(data = region_cat, hue = 'category', y='sales', x = 'region', order= region_sum.sort_values('sales').region)"
   ]
  },
  {
   "cell_type": "markdown",
   "id": "826568fe",
   "metadata": {},
   "source": [
    "#### Q4. What is the regions profit performance by product category"
   ]
  },
  {
   "cell_type": "code",
   "execution_count": 47,
   "id": "d69c3c3b",
   "metadata": {},
   "outputs": [
    {
     "data": {
      "text/plain": [
       "<AxesSubplot:xlabel='region', ylabel='profit'>"
      ]
     },
     "execution_count": 47,
     "metadata": {},
     "output_type": "execute_result"
    },
    {
     "data": {
      "image/png": "[encoded data removed]",
      "text/plain": [
       "<Figure size 648x504 with 1 Axes>"
      ]
     },
     "metadata": {
      "needs_background": "light"
     },
     "output_type": "display_data"
    }
   ],
   "source": [
    "plt.figure(figsize= (9, 7))\n",
    "sns.barplot(data = region_cat, hue = 'category', y='profit', x = 'region', order= region_sum.sort_values('profit').region)"
   ]
  },
  {
   "cell_type": "code",
   "execution_count": null,
   "id": "ba432b82",
   "metadata": {},
   "outputs": [],
   "source": []
  },
  {
   "cell_type": "markdown",
   "id": "7cdf66eb",
   "metadata": {},
   "source": [
    "### b. Customer Segment Analysis"
   ]
  },
  {
   "cell_type": "markdown",
   "id": "ad58e196",
   "metadata": {},
   "source": [
    "#### Q5. What customer segment is generates more  sales and profit"
   ]
  },
  {
   "cell_type": "code",
   "execution_count": 48,
   "id": "e19845d5",
   "metadata": {},
   "outputs": [
    {
     "name": "stderr",
     "output_type": "stream",
     "text": [
      "C:\\Users\\osazu\\AppData\\Local\\Temp/ipykernel_16368/343030946.py:1: FutureWarning: Indexing with multiple keys (implicitly converted to a tuple of keys) will be deprecated, use a list instead.\n",
      "  segmt = df.groupby('segment')['sales','quantity', 'profit',].sum()\n"
     ]
    }
   ],
   "source": [
    "segmt = df.groupby('segment')['sales','quantity', 'profit',].sum()"
   ]
  },
  {
   "cell_type": "code",
   "execution_count": 49,
   "id": "7186fd89",
   "metadata": {},
   "outputs": [
    {
     "data": {
      "text/plain": [
       "<AxesSubplot:xlabel='segment', ylabel='profit'>"
      ]
     },
     "execution_count": 49,
     "metadata": {},
     "output_type": "execute_result"
    },
    {
     "data": {
      "image/png": "[encoded data removed]",
      "text/plain": [
       "<Figure size 360x360 with 1 Axes>"
      ]
     },
     "metadata": {
      "needs_background": "light"
     },
     "output_type": "display_data"
    }
   ],
   "source": [
    "plt.figure(figsize= (5, 5))\n",
    "sns.barplot(data= segmt, x = segmt.index, y = 'profit',color='y')"
   ]
  },
  {
   "cell_type": "code",
   "execution_count": 50,
   "id": "5aa55e0d",
   "metadata": {
    "scrolled": true
   },
   "outputs": [
    {
     "data": {
      "text/plain": [
       "<AxesSubplot:xlabel='segment', ylabel='sales'>"
      ]
     },
     "execution_count": 50,
     "metadata": {},
     "output_type": "execute_result"
    },
    {
     "data": {
      "image/png": "[encoded data removed]",
      "text/plain": [
       "<Figure size 360x360 with 1 Axes>"
      ]
     },
     "metadata": {
      "needs_background": "light"
     },
     "output_type": "display_data"
    }
   ],
   "source": [
    "plt.figure(figsize= (5, 5))\n",
    "sns.barplot(data= segmt, x = segmt.index, y = 'sales',color='y')"
   ]
  },
  {
   "cell_type": "code",
   "execution_count": 51,
   "id": "092d88b0",
   "metadata": {},
   "outputs": [
    {
     "name": "stderr",
     "output_type": "stream",
     "text": [
      "C:\\Users\\osazu\\AppData\\Local\\Temp/ipykernel_16368/262481850.py:1: FutureWarning: Indexing with multiple keys (implicitly converted to a tuple of keys) will be deprecated, use a list instead.\n",
      "  segmt1 = df.groupby(['segment','region'])['sales','quantity', 'profit',].sum()\n"
     ]
    }
   ],
   "source": [
    "segmt1 = df.groupby(['segment','region'])['sales','quantity', 'profit',].sum()"
   ]
  },
  {
   "cell_type": "code",
   "execution_count": 52,
   "id": "b89ac31a",
   "metadata": {},
   "outputs": [
    {
     "data": {
      "text/html": [
       "<div>\n",
       "<style scoped>\n",
       "    .dataframe tbody tr th:only-of-type {\n",
       "        vertical-align: middle;\n",
       "    }\n",
       "\n",
       "    .dataframe tbody tr th {\n",
       "        vertical-align: top;\n",
       "    }\n",
       "\n",
       "    .dataframe thead th {\n",
       "        text-align: right;\n",
       "    }\n",
       "</style>\n",
       "<table border=\"1\" class=\"dataframe\">\n",
       "  <thead>\n",
       "    <tr style=\"text-align: right;\">\n",
       "      <th></th>\n",
       "      <th></th>\n",
       "      <th>sales</th>\n",
       "      <th>quantity</th>\n",
       "      <th>profit</th>\n",
       "    </tr>\n",
       "    <tr>\n",
       "      <th>segment</th>\n",
       "      <th>region</th>\n",
       "      <th></th>\n",
       "      <th></th>\n",
       "      <th></th>\n",
       "    </tr>\n",
       "  </thead>\n",
       "  <tbody>\n",
       "    <tr>\n",
       "      <th rowspan=\"4\" valign=\"top\">Consumer</th>\n",
       "      <th>Central</th>\n",
       "      <td>252031.4340</td>\n",
       "      <td>4519</td>\n",
       "      <td>8564.0481</td>\n",
       "    </tr>\n",
       "    <tr>\n",
       "      <th>East</th>\n",
       "      <td>350908.1670</td>\n",
       "      <td>5347</td>\n",
       "      <td>41190.9843</td>\n",
       "    </tr>\n",
       "    <tr>\n",
       "      <th>South</th>\n",
       "      <td>195580.9710</td>\n",
       "      <td>3178</td>\n",
       "      <td>26913.5728</td>\n",
       "    </tr>\n",
       "    <tr>\n",
       "      <th>West</th>\n",
       "      <td>362880.7730</td>\n",
       "      <td>6477</td>\n",
       "      <td>57450.6040</td>\n",
       "    </tr>\n",
       "    <tr>\n",
       "      <th rowspan=\"4\" valign=\"top\">Corporate</th>\n",
       "      <th>Central</th>\n",
       "      <td>157995.8128</td>\n",
       "      <td>2604</td>\n",
       "      <td>18703.9020</td>\n",
       "    </tr>\n",
       "    <tr>\n",
       "      <th>East</th>\n",
       "      <td>200409.3470</td>\n",
       "      <td>3358</td>\n",
       "      <td>23622.5789</td>\n",
       "    </tr>\n",
       "    <tr>\n",
       "      <th>South</th>\n",
       "      <td>121885.9325</td>\n",
       "      <td>2016</td>\n",
       "      <td>15215.2232</td>\n",
       "    </tr>\n",
       "    <tr>\n",
       "      <th>West</th>\n",
       "      <td>225855.2745</td>\n",
       "      <td>3630</td>\n",
       "      <td>34437.4299</td>\n",
       "    </tr>\n",
       "    <tr>\n",
       "      <th rowspan=\"4\" valign=\"top\">Home Office</th>\n",
       "      <th>Central</th>\n",
       "      <td>91212.6440</td>\n",
       "      <td>1657</td>\n",
       "      <td>12438.4124</td>\n",
       "    </tr>\n",
       "    <tr>\n",
       "      <th>East</th>\n",
       "      <td>127463.7260</td>\n",
       "      <td>1913</td>\n",
       "      <td>26709.2168</td>\n",
       "    </tr>\n",
       "    <tr>\n",
       "      <th>South</th>\n",
       "      <td>74255.0015</td>\n",
       "      <td>1015</td>\n",
       "      <td>4620.6343</td>\n",
       "    </tr>\n",
       "    <tr>\n",
       "      <th>West</th>\n",
       "      <td>136721.7770</td>\n",
       "      <td>2159</td>\n",
       "      <td>16530.4150</td>\n",
       "    </tr>\n",
       "  </tbody>\n",
       "</table>\n",
       "</div>"
      ],
      "text/plain": [
       "                           sales  quantity      profit\n",
       "segment     region                                    \n",
       "Consumer    Central  252031.4340      4519   8564.0481\n",
       "            East     350908.1670      5347  41190.9843\n",
       "            South    195580.9710      3178  26913.5728\n",
       "            West     362880.7730      6477  57450.6040\n",
       "Corporate   Central  157995.8128      2604  18703.9020\n",
       "            East     200409.3470      3358  23622.5789\n",
       "            South    121885.9325      2016  15215.2232\n",
       "            West     225855.2745      3630  34437.4299\n",
       "Home Office Central   91212.6440      1657  12438.4124\n",
       "            East     127463.7260      1913  26709.2168\n",
       "            South     74255.0015      1015   4620.6343\n",
       "            West     136721.7770      2159  16530.4150"
      ]
     },
     "execution_count": 52,
     "metadata": {},
     "output_type": "execute_result"
    }
   ],
   "source": [
    "segmt1"
   ]
  },
  {
   "cell_type": "code",
   "execution_count": 53,
   "id": "d32def38",
   "metadata": {},
   "outputs": [
    {
     "data": {
      "text/html": [
       "<div>\n",
       "<style scoped>\n",
       "    .dataframe tbody tr th:only-of-type {\n",
       "        vertical-align: middle;\n",
       "    }\n",
       "\n",
       "    .dataframe tbody tr th {\n",
       "        vertical-align: top;\n",
       "    }\n",
       "\n",
       "    .dataframe thead th {\n",
       "        text-align: right;\n",
       "    }\n",
       "</style>\n",
       "<table border=\"1\" class=\"dataframe\">\n",
       "  <thead>\n",
       "    <tr style=\"text-align: right;\">\n",
       "      <th></th>\n",
       "      <th>segment</th>\n",
       "      <th>region</th>\n",
       "      <th>sales</th>\n",
       "      <th>quantity</th>\n",
       "      <th>profit</th>\n",
       "    </tr>\n",
       "  </thead>\n",
       "  <tbody>\n",
       "    <tr>\n",
       "      <th>0</th>\n",
       "      <td>Consumer</td>\n",
       "      <td>Central</td>\n",
       "      <td>252031.4340</td>\n",
       "      <td>4519</td>\n",
       "      <td>8564.0481</td>\n",
       "    </tr>\n",
       "    <tr>\n",
       "      <th>1</th>\n",
       "      <td>Consumer</td>\n",
       "      <td>East</td>\n",
       "      <td>350908.1670</td>\n",
       "      <td>5347</td>\n",
       "      <td>41190.9843</td>\n",
       "    </tr>\n",
       "    <tr>\n",
       "      <th>2</th>\n",
       "      <td>Consumer</td>\n",
       "      <td>South</td>\n",
       "      <td>195580.9710</td>\n",
       "      <td>3178</td>\n",
       "      <td>26913.5728</td>\n",
       "    </tr>\n",
       "    <tr>\n",
       "      <th>3</th>\n",
       "      <td>Consumer</td>\n",
       "      <td>West</td>\n",
       "      <td>362880.7730</td>\n",
       "      <td>6477</td>\n",
       "      <td>57450.6040</td>\n",
       "    </tr>\n",
       "    <tr>\n",
       "      <th>4</th>\n",
       "      <td>Corporate</td>\n",
       "      <td>Central</td>\n",
       "      <td>157995.8128</td>\n",
       "      <td>2604</td>\n",
       "      <td>18703.9020</td>\n",
       "    </tr>\n",
       "    <tr>\n",
       "      <th>5</th>\n",
       "      <td>Corporate</td>\n",
       "      <td>East</td>\n",
       "      <td>200409.3470</td>\n",
       "      <td>3358</td>\n",
       "      <td>23622.5789</td>\n",
       "    </tr>\n",
       "    <tr>\n",
       "      <th>6</th>\n",
       "      <td>Corporate</td>\n",
       "      <td>South</td>\n",
       "      <td>121885.9325</td>\n",
       "      <td>2016</td>\n",
       "      <td>15215.2232</td>\n",
       "    </tr>\n",
       "    <tr>\n",
       "      <th>7</th>\n",
       "      <td>Corporate</td>\n",
       "      <td>West</td>\n",
       "      <td>225855.2745</td>\n",
       "      <td>3630</td>\n",
       "      <td>34437.4299</td>\n",
       "    </tr>\n",
       "    <tr>\n",
       "      <th>8</th>\n",
       "      <td>Home Office</td>\n",
       "      <td>Central</td>\n",
       "      <td>91212.6440</td>\n",
       "      <td>1657</td>\n",
       "      <td>12438.4124</td>\n",
       "    </tr>\n",
       "    <tr>\n",
       "      <th>9</th>\n",
       "      <td>Home Office</td>\n",
       "      <td>East</td>\n",
       "      <td>127463.7260</td>\n",
       "      <td>1913</td>\n",
       "      <td>26709.2168</td>\n",
       "    </tr>\n",
       "    <tr>\n",
       "      <th>10</th>\n",
       "      <td>Home Office</td>\n",
       "      <td>South</td>\n",
       "      <td>74255.0015</td>\n",
       "      <td>1015</td>\n",
       "      <td>4620.6343</td>\n",
       "    </tr>\n",
       "    <tr>\n",
       "      <th>11</th>\n",
       "      <td>Home Office</td>\n",
       "      <td>West</td>\n",
       "      <td>136721.7770</td>\n",
       "      <td>2159</td>\n",
       "      <td>16530.4150</td>\n",
       "    </tr>\n",
       "  </tbody>\n",
       "</table>\n",
       "</div>"
      ],
      "text/plain": [
       "        segment   region        sales  quantity      profit\n",
       "0      Consumer  Central  252031.4340      4519   8564.0481\n",
       "1      Consumer     East  350908.1670      5347  41190.9843\n",
       "2      Consumer    South  195580.9710      3178  26913.5728\n",
       "3      Consumer     West  362880.7730      6477  57450.6040\n",
       "4     Corporate  Central  157995.8128      2604  18703.9020\n",
       "5     Corporate     East  200409.3470      3358  23622.5789\n",
       "6     Corporate    South  121885.9325      2016  15215.2232\n",
       "7     Corporate     West  225855.2745      3630  34437.4299\n",
       "8   Home Office  Central   91212.6440      1657  12438.4124\n",
       "9   Home Office     East  127463.7260      1913  26709.2168\n",
       "10  Home Office    South   74255.0015      1015   4620.6343\n",
       "11  Home Office     West  136721.7770      2159  16530.4150"
      ]
     },
     "execution_count": 53,
     "metadata": {},
     "output_type": "execute_result"
    }
   ],
   "source": [
    "segmt1.reset_index(inplace= True)\n",
    "segmt1"
   ]
  },
  {
   "cell_type": "markdown",
   "id": "0794f33b",
   "metadata": {},
   "source": [
    "#### Q6. How does the various performs across the regions"
   ]
  },
  {
   "cell_type": "code",
   "execution_count": 54,
   "id": "46882731",
   "metadata": {
    "scrolled": false
   },
   "outputs": [
    {
     "data": {
      "text/plain": [
       "<AxesSubplot:xlabel='segment', ylabel='profit'>"
      ]
     },
     "execution_count": 54,
     "metadata": {},
     "output_type": "execute_result"
    },
    {
     "data": {
      "image/png": "[encoded data removed]",
      "text/plain": [
       "<Figure size 504x504 with 1 Axes>"
      ]
     },
     "metadata": {
      "needs_background": "light"
     },
     "output_type": "display_data"
    }
   ],
   "source": [
    "plt.figure(figsize= (7, 7))\n",
    "sns.barplot(data=segmt1, hue = 'region', y= 'profit', x = 'segment')"
   ]
  },
  {
   "cell_type": "code",
   "execution_count": null,
   "id": "cf5b7fec",
   "metadata": {},
   "outputs": [],
   "source": []
  },
  {
   "cell_type": "markdown",
   "id": "83be98f4",
   "metadata": {},
   "source": [
    "### c. Category Analysis"
   ]
  },
  {
   "cell_type": "code",
   "execution_count": 55,
   "id": "28ff035e",
   "metadata": {},
   "outputs": [
    {
     "name": "stderr",
     "output_type": "stream",
     "text": [
      "C:\\Users\\osazu\\AppData\\Local\\Temp/ipykernel_16368/3863071365.py:1: FutureWarning: Indexing with multiple keys (implicitly converted to a tuple of keys) will be deprecated, use a list instead.\n",
      "  cat = df.groupby('category')['profit','sales','quantity'].sum()\n"
     ]
    }
   ],
   "source": [
    "cat = df.groupby('category')['profit','sales','quantity'].sum()"
   ]
  },
  {
   "cell_type": "code",
   "execution_count": 56,
   "id": "f338060e",
   "metadata": {},
   "outputs": [
    {
     "data": {
      "text/html": [
       "<div>\n",
       "<style scoped>\n",
       "    .dataframe tbody tr th:only-of-type {\n",
       "        vertical-align: middle;\n",
       "    }\n",
       "\n",
       "    .dataframe tbody tr th {\n",
       "        vertical-align: top;\n",
       "    }\n",
       "\n",
       "    .dataframe thead th {\n",
       "        text-align: right;\n",
       "    }\n",
       "</style>\n",
       "<table border=\"1\" class=\"dataframe\">\n",
       "  <thead>\n",
       "    <tr style=\"text-align: right;\">\n",
       "      <th></th>\n",
       "      <th>category</th>\n",
       "      <th>profit</th>\n",
       "      <th>sales</th>\n",
       "      <th>quantity</th>\n",
       "    </tr>\n",
       "  </thead>\n",
       "  <tbody>\n",
       "    <tr>\n",
       "      <th>0</th>\n",
       "      <td>Furniture</td>\n",
       "      <td>18451.2728</td>\n",
       "      <td>741999.7953</td>\n",
       "      <td>8028</td>\n",
       "    </tr>\n",
       "    <tr>\n",
       "      <th>1</th>\n",
       "      <td>Office Supplies</td>\n",
       "      <td>122490.8008</td>\n",
       "      <td>719047.0320</td>\n",
       "      <td>22906</td>\n",
       "    </tr>\n",
       "    <tr>\n",
       "      <th>2</th>\n",
       "      <td>Technology</td>\n",
       "      <td>145454.9481</td>\n",
       "      <td>836154.0330</td>\n",
       "      <td>6939</td>\n",
       "    </tr>\n",
       "  </tbody>\n",
       "</table>\n",
       "</div>"
      ],
      "text/plain": [
       "          category       profit        sales  quantity\n",
       "0        Furniture   18451.2728  741999.7953      8028\n",
       "1  Office Supplies  122490.8008  719047.0320     22906\n",
       "2       Technology  145454.9481  836154.0330      6939"
      ]
     },
     "execution_count": 56,
     "metadata": {},
     "output_type": "execute_result"
    }
   ],
   "source": [
    "cat.reset_index(inplace= True)\n",
    "cat"
   ]
  },
  {
   "cell_type": "markdown",
   "id": "0eff3b6d",
   "metadata": {},
   "source": [
    "#### Q7. Which is the most profitable category"
   ]
  },
  {
   "cell_type": "code",
   "execution_count": 57,
   "id": "23a6ac7e",
   "metadata": {
    "scrolled": true
   },
   "outputs": [
    {
     "data": {
      "text/plain": [
       "<AxesSubplot:xlabel='category', ylabel='profit'>"
      ]
     },
     "execution_count": 57,
     "metadata": {},
     "output_type": "execute_result"
    },
    {
     "data": {
      "image/png": "[encoded data removed]",
      "text/plain": [
       "<Figure size 432x288 with 1 Axes>"
      ]
     },
     "metadata": {
      "needs_background": "light"
     },
     "output_type": "display_data"
    }
   ],
   "source": [
    "sns.barplot(data=cat, x= 'category', y = 'profit', color= 'b')"
   ]
  },
  {
   "cell_type": "code",
   "execution_count": 58,
   "id": "2c58ab3d",
   "metadata": {},
   "outputs": [
    {
     "name": "stderr",
     "output_type": "stream",
     "text": [
      "C:\\Users\\osazu\\AppData\\Local\\Temp/ipykernel_16368/3284028098.py:1: FutureWarning: Indexing with multiple keys (implicitly converted to a tuple of keys) will be deprecated, use a list instead.\n",
      "  cat_sub = df.groupby(['category', 'sub_category',])['profit','sales','quantity'].sum()\n"
     ]
    },
    {
     "data": {
      "text/html": [
       "<div>\n",
       "<style scoped>\n",
       "    .dataframe tbody tr th:only-of-type {\n",
       "        vertical-align: middle;\n",
       "    }\n",
       "\n",
       "    .dataframe tbody tr th {\n",
       "        vertical-align: top;\n",
       "    }\n",
       "\n",
       "    .dataframe thead th {\n",
       "        text-align: right;\n",
       "    }\n",
       "</style>\n",
       "<table border=\"1\" class=\"dataframe\">\n",
       "  <thead>\n",
       "    <tr style=\"text-align: right;\">\n",
       "      <th></th>\n",
       "      <th>category</th>\n",
       "      <th>sub_category</th>\n",
       "      <th>profit</th>\n",
       "      <th>sales</th>\n",
       "      <th>quantity</th>\n",
       "    </tr>\n",
       "  </thead>\n",
       "  <tbody>\n",
       "    <tr>\n",
       "      <th>0</th>\n",
       "      <td>Furniture</td>\n",
       "      <td>Bookcases</td>\n",
       "      <td>-3472.5560</td>\n",
       "      <td>114879.9963</td>\n",
       "      <td>868</td>\n",
       "    </tr>\n",
       "    <tr>\n",
       "      <th>1</th>\n",
       "      <td>Furniture</td>\n",
       "      <td>Chairs</td>\n",
       "      <td>26590.1663</td>\n",
       "      <td>328449.1030</td>\n",
       "      <td>2356</td>\n",
       "    </tr>\n",
       "    <tr>\n",
       "      <th>2</th>\n",
       "      <td>Furniture</td>\n",
       "      <td>Furnishings</td>\n",
       "      <td>13059.1436</td>\n",
       "      <td>91705.1640</td>\n",
       "      <td>3563</td>\n",
       "    </tr>\n",
       "    <tr>\n",
       "      <th>3</th>\n",
       "      <td>Furniture</td>\n",
       "      <td>Tables</td>\n",
       "      <td>-17725.4811</td>\n",
       "      <td>206965.5320</td>\n",
       "      <td>1241</td>\n",
       "    </tr>\n",
       "    <tr>\n",
       "      <th>4</th>\n",
       "      <td>Office Supplies</td>\n",
       "      <td>Appliances</td>\n",
       "      <td>18138.0054</td>\n",
       "      <td>107532.1610</td>\n",
       "      <td>1729</td>\n",
       "    </tr>\n",
       "    <tr>\n",
       "      <th>5</th>\n",
       "      <td>Office Supplies</td>\n",
       "      <td>Art</td>\n",
       "      <td>6527.7870</td>\n",
       "      <td>27118.7920</td>\n",
       "      <td>3000</td>\n",
       "    </tr>\n",
       "    <tr>\n",
       "      <th>6</th>\n",
       "      <td>Office Supplies</td>\n",
       "      <td>Binders</td>\n",
       "      <td>30221.7633</td>\n",
       "      <td>203412.7330</td>\n",
       "      <td>5974</td>\n",
       "    </tr>\n",
       "    <tr>\n",
       "      <th>7</th>\n",
       "      <td>Office Supplies</td>\n",
       "      <td>Envelopes</td>\n",
       "      <td>6964.1767</td>\n",
       "      <td>16476.4020</td>\n",
       "      <td>906</td>\n",
       "    </tr>\n",
       "    <tr>\n",
       "      <th>8</th>\n",
       "      <td>Office Supplies</td>\n",
       "      <td>Fasteners</td>\n",
       "      <td>949.5182</td>\n",
       "      <td>3024.2800</td>\n",
       "      <td>914</td>\n",
       "    </tr>\n",
       "    <tr>\n",
       "      <th>9</th>\n",
       "      <td>Office Supplies</td>\n",
       "      <td>Labels</td>\n",
       "      <td>5546.2540</td>\n",
       "      <td>12486.3120</td>\n",
       "      <td>1400</td>\n",
       "    </tr>\n",
       "    <tr>\n",
       "      <th>10</th>\n",
       "      <td>Office Supplies</td>\n",
       "      <td>Paper</td>\n",
       "      <td>34053.5693</td>\n",
       "      <td>78479.2060</td>\n",
       "      <td>5178</td>\n",
       "    </tr>\n",
       "    <tr>\n",
       "      <th>11</th>\n",
       "      <td>Office Supplies</td>\n",
       "      <td>Storage</td>\n",
       "      <td>21278.8264</td>\n",
       "      <td>223843.6080</td>\n",
       "      <td>3158</td>\n",
       "    </tr>\n",
       "    <tr>\n",
       "      <th>12</th>\n",
       "      <td>Office Supplies</td>\n",
       "      <td>Supplies</td>\n",
       "      <td>-1189.0995</td>\n",
       "      <td>46673.5380</td>\n",
       "      <td>647</td>\n",
       "    </tr>\n",
       "    <tr>\n",
       "      <th>13</th>\n",
       "      <td>Technology</td>\n",
       "      <td>Accessories</td>\n",
       "      <td>41936.6357</td>\n",
       "      <td>167380.3180</td>\n",
       "      <td>2976</td>\n",
       "    </tr>\n",
       "    <tr>\n",
       "      <th>14</th>\n",
       "      <td>Technology</td>\n",
       "      <td>Copiers</td>\n",
       "      <td>55617.8249</td>\n",
       "      <td>149528.0300</td>\n",
       "      <td>234</td>\n",
       "    </tr>\n",
       "    <tr>\n",
       "      <th>15</th>\n",
       "      <td>Technology</td>\n",
       "      <td>Machines</td>\n",
       "      <td>3384.7569</td>\n",
       "      <td>189238.6310</td>\n",
       "      <td>440</td>\n",
       "    </tr>\n",
       "    <tr>\n",
       "      <th>16</th>\n",
       "      <td>Technology</td>\n",
       "      <td>Phones</td>\n",
       "      <td>44515.7306</td>\n",
       "      <td>330007.0540</td>\n",
       "      <td>3289</td>\n",
       "    </tr>\n",
       "  </tbody>\n",
       "</table>\n",
       "</div>"
      ],
      "text/plain": [
       "           category sub_category      profit        sales  quantity\n",
       "0         Furniture    Bookcases  -3472.5560  114879.9963       868\n",
       "1         Furniture       Chairs  26590.1663  328449.1030      2356\n",
       "2         Furniture  Furnishings  13059.1436   91705.1640      3563\n",
       "3         Furniture       Tables -17725.4811  206965.5320      1241\n",
       "4   Office Supplies   Appliances  18138.0054  107532.1610      1729\n",
       "5   Office Supplies          Art   6527.7870   27118.7920      3000\n",
       "6   Office Supplies      Binders  30221.7633  203412.7330      5974\n",
       "7   Office Supplies    Envelopes   6964.1767   16476.4020       906\n",
       "8   Office Supplies    Fasteners    949.5182    3024.2800       914\n",
       "9   Office Supplies       Labels   5546.2540   12486.3120      1400\n",
       "10  Office Supplies        Paper  34053.5693   78479.2060      5178\n",
       "11  Office Supplies      Storage  21278.8264  223843.6080      3158\n",
       "12  Office Supplies     Supplies  -1189.0995   46673.5380       647\n",
       "13       Technology  Accessories  41936.6357  167380.3180      2976\n",
       "14       Technology      Copiers  55617.8249  149528.0300       234\n",
       "15       Technology     Machines   3384.7569  189238.6310       440\n",
       "16       Technology       Phones  44515.7306  330007.0540      3289"
      ]
     },
     "execution_count": 58,
     "metadata": {},
     "output_type": "execute_result"
    }
   ],
   "source": [
    "cat_sub = df.groupby(['category', 'sub_category',])['profit','sales','quantity'].sum()\n",
    "cat_sub.reset_index(inplace=True)\n",
    "cat_sub"
   ]
  },
  {
   "cell_type": "code",
   "execution_count": 59,
   "id": "d02a1456",
   "metadata": {
    "scrolled": true
   },
   "outputs": [
    {
     "data": {
      "image/png": "[encoded data removed]",
      "text/plain": [
       "<Figure size 792x648 with 1 Axes>"
      ]
     },
     "metadata": {
      "needs_background": "light"
     },
     "output_type": "display_data"
    }
   ],
   "source": [
    "plt.figure(figsize=(11,9))\n",
    "ax = sns.barplot(data=cat_sub, x= 'sub_category', y = 'profit', hue = 'category')\n",
    "ax.tick_params(axis='x', rotation=90)"
   ]
  },
  {
   "cell_type": "code",
   "execution_count": null,
   "id": "9b204212",
   "metadata": {},
   "outputs": [],
   "source": []
  },
  {
   "cell_type": "code",
   "execution_count": 60,
   "id": "0f69d00e",
   "metadata": {},
   "outputs": [
    {
     "name": "stderr",
     "output_type": "stream",
     "text": [
      "C:\\Users\\osazu\\AppData\\Local\\Temp/ipykernel_16368/308705220.py:1: FutureWarning: Indexing with multiple keys (implicitly converted to a tuple of keys) will be deprecated, use a list instead.\n",
      "  cat_reg = df.groupby(['category', 'region',])['profit','sales','quantity'].sum()\n"
     ]
    },
    {
     "data": {
      "text/html": [
       "<div>\n",
       "<style scoped>\n",
       "    .dataframe tbody tr th:only-of-type {\n",
       "        vertical-align: middle;\n",
       "    }\n",
       "\n",
       "    .dataframe tbody tr th {\n",
       "        vertical-align: top;\n",
       "    }\n",
       "\n",
       "    .dataframe thead th {\n",
       "        text-align: right;\n",
       "    }\n",
       "</style>\n",
       "<table border=\"1\" class=\"dataframe\">\n",
       "  <thead>\n",
       "    <tr style=\"text-align: right;\">\n",
       "      <th></th>\n",
       "      <th>category</th>\n",
       "      <th>region</th>\n",
       "      <th>profit</th>\n",
       "      <th>sales</th>\n",
       "      <th>quantity</th>\n",
       "    </tr>\n",
       "  </thead>\n",
       "  <tbody>\n",
       "    <tr>\n",
       "      <th>0</th>\n",
       "      <td>Furniture</td>\n",
       "      <td>Central</td>\n",
       "      <td>-2871.0494</td>\n",
       "      <td>163797.1638</td>\n",
       "      <td>1827</td>\n",
       "    </tr>\n",
       "    <tr>\n",
       "      <th>1</th>\n",
       "      <td>Furniture</td>\n",
       "      <td>East</td>\n",
       "      <td>3046.1658</td>\n",
       "      <td>208291.2040</td>\n",
       "      <td>2214</td>\n",
       "    </tr>\n",
       "    <tr>\n",
       "      <th>2</th>\n",
       "      <td>Furniture</td>\n",
       "      <td>South</td>\n",
       "      <td>6771.2061</td>\n",
       "      <td>117298.6840</td>\n",
       "      <td>1291</td>\n",
       "    </tr>\n",
       "    <tr>\n",
       "      <th>3</th>\n",
       "      <td>Furniture</td>\n",
       "      <td>West</td>\n",
       "      <td>11504.9503</td>\n",
       "      <td>252612.7435</td>\n",
       "      <td>2696</td>\n",
       "    </tr>\n",
       "    <tr>\n",
       "      <th>4</th>\n",
       "      <td>Office Supplies</td>\n",
       "      <td>Central</td>\n",
       "      <td>8879.9799</td>\n",
       "      <td>167026.4150</td>\n",
       "      <td>5409</td>\n",
       "    </tr>\n",
       "    <tr>\n",
       "      <th>5</th>\n",
       "      <td>Office Supplies</td>\n",
       "      <td>East</td>\n",
       "      <td>41014.5791</td>\n",
       "      <td>205516.0550</td>\n",
       "      <td>6462</td>\n",
       "    </tr>\n",
       "    <tr>\n",
       "      <th>6</th>\n",
       "      <td>Office Supplies</td>\n",
       "      <td>South</td>\n",
       "      <td>19986.3928</td>\n",
       "      <td>125651.3130</td>\n",
       "      <td>3800</td>\n",
       "    </tr>\n",
       "    <tr>\n",
       "      <th>7</th>\n",
       "      <td>Office Supplies</td>\n",
       "      <td>West</td>\n",
       "      <td>52609.8490</td>\n",
       "      <td>220853.2490</td>\n",
       "      <td>7235</td>\n",
       "    </tr>\n",
       "    <tr>\n",
       "      <th>8</th>\n",
       "      <td>Technology</td>\n",
       "      <td>Central</td>\n",
       "      <td>33697.4320</td>\n",
       "      <td>170416.3120</td>\n",
       "      <td>1544</td>\n",
       "    </tr>\n",
       "    <tr>\n",
       "      <th>9</th>\n",
       "      <td>Technology</td>\n",
       "      <td>East</td>\n",
       "      <td>47462.0351</td>\n",
       "      <td>264973.9810</td>\n",
       "      <td>1942</td>\n",
       "    </tr>\n",
       "    <tr>\n",
       "      <th>10</th>\n",
       "      <td>Technology</td>\n",
       "      <td>South</td>\n",
       "      <td>19991.8314</td>\n",
       "      <td>148771.9080</td>\n",
       "      <td>1118</td>\n",
       "    </tr>\n",
       "    <tr>\n",
       "      <th>11</th>\n",
       "      <td>Technology</td>\n",
       "      <td>West</td>\n",
       "      <td>44303.6496</td>\n",
       "      <td>251991.8320</td>\n",
       "      <td>2335</td>\n",
       "    </tr>\n",
       "  </tbody>\n",
       "</table>\n",
       "</div>"
      ],
      "text/plain": [
       "           category   region      profit        sales  quantity\n",
       "0         Furniture  Central  -2871.0494  163797.1638      1827\n",
       "1         Furniture     East   3046.1658  208291.2040      2214\n",
       "2         Furniture    South   6771.2061  117298.6840      1291\n",
       "3         Furniture     West  11504.9503  252612.7435      2696\n",
       "4   Office Supplies  Central   8879.9799  167026.4150      5409\n",
       "5   Office Supplies     East  41014.5791  205516.0550      6462\n",
       "6   Office Supplies    South  19986.3928  125651.3130      3800\n",
       "7   Office Supplies     West  52609.8490  220853.2490      7235\n",
       "8        Technology  Central  33697.4320  170416.3120      1544\n",
       "9        Technology     East  47462.0351  264973.9810      1942\n",
       "10       Technology    South  19991.8314  148771.9080      1118\n",
       "11       Technology     West  44303.6496  251991.8320      2335"
      ]
     },
     "execution_count": 60,
     "metadata": {},
     "output_type": "execute_result"
    }
   ],
   "source": [
    "cat_reg = df.groupby(['category', 'region',])['profit','sales','quantity'].sum()\n",
    "cat_reg.reset_index(inplace=True)\n",
    "cat_reg"
   ]
  },
  {
   "cell_type": "markdown",
   "id": "b57e6611",
   "metadata": {},
   "source": [
    "#### Q9. Which category generate more profit in the various regions"
   ]
  },
  {
   "cell_type": "code",
   "execution_count": 61,
   "id": "6f19b334",
   "metadata": {
    "scrolled": false
   },
   "outputs": [
    {
     "data": {
      "image/png": "[encoded data removed]",
      "text/plain": [
       "<Figure size 1080x360 with 3 Axes>"
      ]
     },
     "metadata": {
      "needs_background": "light"
     },
     "output_type": "display_data"
    }
   ],
   "source": [
    "ax = sns.catplot(y=\"profit\", col=\"category\",data= cat_reg, kind=\"bar\",  x='region', color='b')\n",
    "#ax.tick_params(axis='x', rotation=90)"
   ]
  },
  {
   "cell_type": "code",
   "execution_count": null,
   "id": "78015d42",
   "metadata": {},
   "outputs": [],
   "source": []
  },
  {
   "cell_type": "markdown",
   "id": "481f02d7",
   "metadata": {},
   "source": [
    "### d. Product Analysis"
   ]
  },
  {
   "cell_type": "code",
   "execution_count": 62,
   "id": "ab09a001",
   "metadata": {},
   "outputs": [
    {
     "name": "stderr",
     "output_type": "stream",
     "text": [
      "C:\\Users\\osazu\\AppData\\Local\\Temp/ipykernel_16368/969302601.py:1: FutureWarning: Indexing with multiple keys (implicitly converted to a tuple of keys) will be deprecated, use a list instead.\n",
      "  prod = df.groupby(['product_id','product_name'])['profit','sales','quantity'].sum()\n"
     ]
    },
    {
     "data": {
      "text/html": [
       "<div>\n",
       "<style scoped>\n",
       "    .dataframe tbody tr th:only-of-type {\n",
       "        vertical-align: middle;\n",
       "    }\n",
       "\n",
       "    .dataframe tbody tr th {\n",
       "        vertical-align: top;\n",
       "    }\n",
       "\n",
       "    .dataframe thead th {\n",
       "        text-align: right;\n",
       "    }\n",
       "</style>\n",
       "<table border=\"1\" class=\"dataframe\">\n",
       "  <thead>\n",
       "    <tr style=\"text-align: right;\">\n",
       "      <th></th>\n",
       "      <th>product_id</th>\n",
       "      <th>product_name</th>\n",
       "      <th>profit</th>\n",
       "      <th>sales</th>\n",
       "      <th>quantity</th>\n",
       "    </tr>\n",
       "  </thead>\n",
       "  <tbody>\n",
       "    <tr>\n",
       "      <th>0</th>\n",
       "      <td>FUR-BO-10000112</td>\n",
       "      <td>Bush Birmingham Collection Bookcase, Dark Cherry</td>\n",
       "      <td>-117.8820</td>\n",
       "      <td>825.174</td>\n",
       "      <td>9</td>\n",
       "    </tr>\n",
       "    <tr>\n",
       "      <th>1</th>\n",
       "      <td>FUR-BO-10000330</td>\n",
       "      <td>Sauder Camden County Barrister Bookcase, Plank...</td>\n",
       "      <td>24.1960</td>\n",
       "      <td>1064.624</td>\n",
       "      <td>10</td>\n",
       "    </tr>\n",
       "    <tr>\n",
       "      <th>2</th>\n",
       "      <td>FUR-BO-10000362</td>\n",
       "      <td>Sauder Inglewood Library Bookcases</td>\n",
       "      <td>311.1836</td>\n",
       "      <td>2154.348</td>\n",
       "      <td>14</td>\n",
       "    </tr>\n",
       "    <tr>\n",
       "      <th>3</th>\n",
       "      <td>FUR-BO-10000468</td>\n",
       "      <td>O'Sullivan 2-Shelf Heavy-Duty Bookcases</td>\n",
       "      <td>-133.1092</td>\n",
       "      <td>723.842</td>\n",
       "      <td>21</td>\n",
       "    </tr>\n",
       "    <tr>\n",
       "      <th>4</th>\n",
       "      <td>FUR-BO-10000711</td>\n",
       "      <td>Hon Metal Bookcases, Gray</td>\n",
       "      <td>229.9752</td>\n",
       "      <td>851.760</td>\n",
       "      <td>12</td>\n",
       "    </tr>\n",
       "  </tbody>\n",
       "</table>\n",
       "</div>"
      ],
      "text/plain": [
       "        product_id                                       product_name  \\\n",
       "0  FUR-BO-10000112   Bush Birmingham Collection Bookcase, Dark Cherry   \n",
       "1  FUR-BO-10000330  Sauder Camden County Barrister Bookcase, Plank...   \n",
       "2  FUR-BO-10000362                 Sauder Inglewood Library Bookcases   \n",
       "3  FUR-BO-10000468            O'Sullivan 2-Shelf Heavy-Duty Bookcases   \n",
       "4  FUR-BO-10000711                          Hon Metal Bookcases, Gray   \n",
       "\n",
       "     profit     sales  quantity  \n",
       "0 -117.8820   825.174         9  \n",
       "1   24.1960  1064.624        10  \n",
       "2  311.1836  2154.348        14  \n",
       "3 -133.1092   723.842        21  \n",
       "4  229.9752   851.760        12  "
      ]
     },
     "execution_count": 62,
     "metadata": {},
     "output_type": "execute_result"
    }
   ],
   "source": [
    "prod = df.groupby(['product_id','product_name'])['profit','sales','quantity'].sum()\n",
    "prod.reset_index(inplace=True)\n",
    "prod.head()"
   ]
  },
  {
   "cell_type": "code",
   "execution_count": 63,
   "id": "e43b0a73",
   "metadata": {},
   "outputs": [
    {
     "data": {
      "text/html": [
       "<div>\n",
       "<style scoped>\n",
       "    .dataframe tbody tr th:only-of-type {\n",
       "        vertical-align: middle;\n",
       "    }\n",
       "\n",
       "    .dataframe tbody tr th {\n",
       "        vertical-align: top;\n",
       "    }\n",
       "\n",
       "    .dataframe thead th {\n",
       "        text-align: right;\n",
       "    }\n",
       "</style>\n",
       "<table border=\"1\" class=\"dataframe\">\n",
       "  <thead>\n",
       "    <tr style=\"text-align: right;\">\n",
       "      <th></th>\n",
       "      <th>product_id</th>\n",
       "      <th>product_name</th>\n",
       "      <th>profit</th>\n",
       "      <th>sales</th>\n",
       "      <th>quantity</th>\n",
       "    </tr>\n",
       "  </thead>\n",
       "  <tbody>\n",
       "    <tr>\n",
       "      <th>1640</th>\n",
       "      <td>TEC-CO-10004722</td>\n",
       "      <td>Canon imageCLASS 2200 Advanced Copier</td>\n",
       "      <td>2.519993e+04</td>\n",
       "      <td>61599.824</td>\n",
       "      <td>20</td>\n",
       "    </tr>\n",
       "    <tr>\n",
       "      <th>787</th>\n",
       "      <td>OFF-BI-10003527</td>\n",
       "      <td>Fellowes PB500 Electric Punch Plastic Comb Bin...</td>\n",
       "      <td>7.753039e+03</td>\n",
       "      <td>27453.384</td>\n",
       "      <td>31</td>\n",
       "    </tr>\n",
       "    <tr>\n",
       "      <th>1669</th>\n",
       "      <td>TEC-MA-10002412</td>\n",
       "      <td>Cisco TelePresence System EX90 Videoconferenci...</td>\n",
       "      <td>-1.811078e+03</td>\n",
       "      <td>22638.480</td>\n",
       "      <td>6</td>\n",
       "    </tr>\n",
       "    <tr>\n",
       "      <th>82</th>\n",
       "      <td>FUR-CH-10002024</td>\n",
       "      <td>HON 5400 Series Task Chairs for Big and Tall</td>\n",
       "      <td>5.684342e-14</td>\n",
       "      <td>21870.576</td>\n",
       "      <td>39</td>\n",
       "    </tr>\n",
       "    <tr>\n",
       "      <th>701</th>\n",
       "      <td>OFF-BI-10001359</td>\n",
       "      <td>GBC DocuBind TL300 Electric Binding System</td>\n",
       "      <td>2.233505e+03</td>\n",
       "      <td>19823.479</td>\n",
       "      <td>37</td>\n",
       "    </tr>\n",
       "    <tr>\n",
       "      <th>667</th>\n",
       "      <td>OFF-BI-10000545</td>\n",
       "      <td>GBC Ibimaster 500 Manual ProClick Binding System</td>\n",
       "      <td>7.609800e+02</td>\n",
       "      <td>19024.500</td>\n",
       "      <td>48</td>\n",
       "    </tr>\n",
       "    <tr>\n",
       "      <th>1630</th>\n",
       "      <td>TEC-CO-10001449</td>\n",
       "      <td>Hewlett Packard LaserJet 3310 Copier</td>\n",
       "      <td>6.983884e+03</td>\n",
       "      <td>18839.686</td>\n",
       "      <td>38</td>\n",
       "    </tr>\n",
       "    <tr>\n",
       "      <th>1657</th>\n",
       "      <td>TEC-MA-10001127</td>\n",
       "      <td>HP Designjet T520 Inkjet Large Format Printer ...</td>\n",
       "      <td>4.094977e+03</td>\n",
       "      <td>18374.895</td>\n",
       "      <td>12</td>\n",
       "    </tr>\n",
       "    <tr>\n",
       "      <th>858</th>\n",
       "      <td>OFF-BI-10004995</td>\n",
       "      <td>GBC DocuBind P400 Electric Binding System</td>\n",
       "      <td>-1.878166e+03</td>\n",
       "      <td>17965.068</td>\n",
       "      <td>27</td>\n",
       "    </tr>\n",
       "    <tr>\n",
       "      <th>1443</th>\n",
       "      <td>OFF-SU-10000151</td>\n",
       "      <td>High Speed Automatic Electric Letter Opener</td>\n",
       "      <td>-2.620048e+02</td>\n",
       "      <td>17030.312</td>\n",
       "      <td>11</td>\n",
       "    </tr>\n",
       "  </tbody>\n",
       "</table>\n",
       "</div>"
      ],
      "text/plain": [
       "           product_id                                       product_name  \\\n",
       "1640  TEC-CO-10004722              Canon imageCLASS 2200 Advanced Copier   \n",
       "787   OFF-BI-10003527  Fellowes PB500 Electric Punch Plastic Comb Bin...   \n",
       "1669  TEC-MA-10002412  Cisco TelePresence System EX90 Videoconferenci...   \n",
       "82    FUR-CH-10002024       HON 5400 Series Task Chairs for Big and Tall   \n",
       "701   OFF-BI-10001359         GBC DocuBind TL300 Electric Binding System   \n",
       "667   OFF-BI-10000545   GBC Ibimaster 500 Manual ProClick Binding System   \n",
       "1630  TEC-CO-10001449               Hewlett Packard LaserJet 3310 Copier   \n",
       "1657  TEC-MA-10001127  HP Designjet T520 Inkjet Large Format Printer ...   \n",
       "858   OFF-BI-10004995          GBC DocuBind P400 Electric Binding System   \n",
       "1443  OFF-SU-10000151        High Speed Automatic Electric Letter Opener   \n",
       "\n",
       "            profit      sales  quantity  \n",
       "1640  2.519993e+04  61599.824        20  \n",
       "787   7.753039e+03  27453.384        31  \n",
       "1669 -1.811078e+03  22638.480         6  \n",
       "82    5.684342e-14  21870.576        39  \n",
       "701   2.233505e+03  19823.479        37  \n",
       "667   7.609800e+02  19024.500        48  \n",
       "1630  6.983884e+03  18839.686        38  \n",
       "1657  4.094977e+03  18374.895        12  \n",
       "858  -1.878166e+03  17965.068        27  \n",
       "1443 -2.620048e+02  17030.312        11  "
      ]
     },
     "execution_count": 63,
     "metadata": {},
     "output_type": "execute_result"
    }
   ],
   "source": [
    "# Top 10 products by sales(generated revenue)\n",
    "sales_t10 = prod.nlargest(10, 'sales')\n",
    "sales_t10"
   ]
  },
  {
   "cell_type": "code",
   "execution_count": 64,
   "id": "a6c83de2",
   "metadata": {},
   "outputs": [
    {
     "data": {
      "text/html": [
       "<div>\n",
       "<style scoped>\n",
       "    .dataframe tbody tr th:only-of-type {\n",
       "        vertical-align: middle;\n",
       "    }\n",
       "\n",
       "    .dataframe tbody tr th {\n",
       "        vertical-align: top;\n",
       "    }\n",
       "\n",
       "    .dataframe thead th {\n",
       "        text-align: right;\n",
       "    }\n",
       "</style>\n",
       "<table border=\"1\" class=\"dataframe\">\n",
       "  <thead>\n",
       "    <tr style=\"text-align: right;\">\n",
       "      <th></th>\n",
       "      <th>product_id</th>\n",
       "      <th>product_name</th>\n",
       "      <th>profit</th>\n",
       "      <th>sales</th>\n",
       "      <th>quantity</th>\n",
       "    </tr>\n",
       "  </thead>\n",
       "  <tbody>\n",
       "    <tr>\n",
       "      <th>1640</th>\n",
       "      <td>TEC-CO-10004722</td>\n",
       "      <td>Canon imageCLASS 2200 Advanced Copier</td>\n",
       "      <td>25199.9280</td>\n",
       "      <td>61599.824</td>\n",
       "      <td>20</td>\n",
       "    </tr>\n",
       "    <tr>\n",
       "      <th>787</th>\n",
       "      <td>OFF-BI-10003527</td>\n",
       "      <td>Fellowes PB500 Electric Punch Plastic Comb Bin...</td>\n",
       "      <td>7753.0390</td>\n",
       "      <td>27453.384</td>\n",
       "      <td>31</td>\n",
       "    </tr>\n",
       "    <tr>\n",
       "      <th>1630</th>\n",
       "      <td>TEC-CO-10001449</td>\n",
       "      <td>Hewlett Packard LaserJet 3310 Copier</td>\n",
       "      <td>6983.8836</td>\n",
       "      <td>18839.686</td>\n",
       "      <td>38</td>\n",
       "    </tr>\n",
       "    <tr>\n",
       "      <th>1637</th>\n",
       "      <td>TEC-CO-10003763</td>\n",
       "      <td>Canon PC1060 Personal Laser Copier</td>\n",
       "      <td>4570.9347</td>\n",
       "      <td>11619.834</td>\n",
       "      <td>19</td>\n",
       "    </tr>\n",
       "    <tr>\n",
       "      <th>1657</th>\n",
       "      <td>TEC-MA-10001127</td>\n",
       "      <td>HP Designjet T520 Inkjet Large Format Printer ...</td>\n",
       "      <td>4094.9766</td>\n",
       "      <td>18374.895</td>\n",
       "      <td>12</td>\n",
       "    </tr>\n",
       "    <tr>\n",
       "      <th>1693</th>\n",
       "      <td>TEC-MA-10003979</td>\n",
       "      <td>Ativa V4110MDD Micro-Cut Shredder</td>\n",
       "      <td>3772.9461</td>\n",
       "      <td>7699.890</td>\n",
       "      <td>11</td>\n",
       "    </tr>\n",
       "    <tr>\n",
       "      <th>1656</th>\n",
       "      <td>TEC-MA-10001047</td>\n",
       "      <td>3D Systems Cube Printer, 2nd Generation, Magenta</td>\n",
       "      <td>3717.9714</td>\n",
       "      <td>14299.890</td>\n",
       "      <td>11</td>\n",
       "    </tr>\n",
       "    <tr>\n",
       "      <th>1541</th>\n",
       "      <td>TEC-AC-10002049</td>\n",
       "      <td>Plantronics Savi W720 Multi-Device Wireless He...</td>\n",
       "      <td>3696.2820</td>\n",
       "      <td>9367.290</td>\n",
       "      <td>24</td>\n",
       "    </tr>\n",
       "    <tr>\n",
       "      <th>692</th>\n",
       "      <td>OFF-BI-10001120</td>\n",
       "      <td>Ibico EPK-21 Electric Binding System</td>\n",
       "      <td>3345.2823</td>\n",
       "      <td>15875.916</td>\n",
       "      <td>13</td>\n",
       "    </tr>\n",
       "    <tr>\n",
       "      <th>1643</th>\n",
       "      <td>TEC-MA-10000045</td>\n",
       "      <td>Zebra ZM400 Thermal Label Printer</td>\n",
       "      <td>3343.5360</td>\n",
       "      <td>6965.700</td>\n",
       "      <td>6</td>\n",
       "    </tr>\n",
       "  </tbody>\n",
       "</table>\n",
       "</div>"
      ],
      "text/plain": [
       "           product_id                                       product_name  \\\n",
       "1640  TEC-CO-10004722              Canon imageCLASS 2200 Advanced Copier   \n",
       "787   OFF-BI-10003527  Fellowes PB500 Electric Punch Plastic Comb Bin...   \n",
       "1630  TEC-CO-10001449               Hewlett Packard LaserJet 3310 Copier   \n",
       "1637  TEC-CO-10003763                 Canon PC1060 Personal Laser Copier   \n",
       "1657  TEC-MA-10001127  HP Designjet T520 Inkjet Large Format Printer ...   \n",
       "1693  TEC-MA-10003979                  Ativa V4110MDD Micro-Cut Shredder   \n",
       "1656  TEC-MA-10001047   3D Systems Cube Printer, 2nd Generation, Magenta   \n",
       "1541  TEC-AC-10002049  Plantronics Savi W720 Multi-Device Wireless He...   \n",
       "692   OFF-BI-10001120               Ibico EPK-21 Electric Binding System   \n",
       "1643  TEC-MA-10000045                  Zebra ZM400 Thermal Label Printer   \n",
       "\n",
       "          profit      sales  quantity  \n",
       "1640  25199.9280  61599.824        20  \n",
       "787    7753.0390  27453.384        31  \n",
       "1630   6983.8836  18839.686        38  \n",
       "1637   4570.9347  11619.834        19  \n",
       "1657   4094.9766  18374.895        12  \n",
       "1693   3772.9461   7699.890        11  \n",
       "1656   3717.9714  14299.890        11  \n",
       "1541   3696.2820   9367.290        24  \n",
       "692    3345.2823  15875.916        13  \n",
       "1643   3343.5360   6965.700         6  "
      ]
     },
     "execution_count": 64,
     "metadata": {},
     "output_type": "execute_result"
    }
   ],
   "source": [
    "# Top 10 products by profit\n",
    "profit_t10 = prod.nlargest(10, 'profit')\n",
    "profit_t10"
   ]
  },
  {
   "cell_type": "markdown",
   "id": "8e0e06d4",
   "metadata": {},
   "source": [
    "#### Q10. What are the Top 10 product by sales"
   ]
  },
  {
   "cell_type": "code",
   "execution_count": 65,
   "id": "8dd89a77",
   "metadata": {
    "scrolled": true
   },
   "outputs": [
    {
     "data": {
      "text/plain": [
       "<AxesSubplot:xlabel='sales', ylabel='product_name'>"
      ]
     },
     "execution_count": 65,
     "metadata": {},
     "output_type": "execute_result"
    },
    {
     "data": {
      "image/png": "[encoded data removed]",
      "text/plain": [
       "<Figure size 720x504 with 1 Axes>"
      ]
     },
     "metadata": {
      "needs_background": "light"
     },
     "output_type": "display_data"
    }
   ],
   "source": [
    "plt.figure(figsize=(10,7))\n",
    "sns.barplot(data=sales_t10, x = 'sales', y='product_name', color= 'g')"
   ]
  },
  {
   "cell_type": "markdown",
   "id": "a1a1bf9e",
   "metadata": {},
   "source": [
    "#### Q10 What are the Top 10 product by profit"
   ]
  },
  {
   "cell_type": "code",
   "execution_count": 66,
   "id": "f24aa94b",
   "metadata": {},
   "outputs": [
    {
     "data": {
      "text/plain": [
       "<AxesSubplot:xlabel='profit', ylabel='product_name'>"
      ]
     },
     "execution_count": 66,
     "metadata": {},
     "output_type": "execute_result"
    },
    {
     "data": {
      "image/png": "[encoded data removed]",
      "text/plain": [
       "<Figure size 720x504 with 1 Axes>"
      ]
     },
     "metadata": {
      "needs_background": "light"
     },
     "output_type": "display_data"
    }
   ],
   "source": [
    "plt.figure(figsize=(10,7))\n",
    "sns.barplot(data=profit_t10, x = 'profit', y='product_name', color= 'g')"
   ]
  },
  {
   "cell_type": "code",
   "execution_count": null,
   "id": "bd1ccd26",
   "metadata": {},
   "outputs": [],
   "source": []
  },
  {
   "cell_type": "markdown",
   "id": "0e4e5c5c",
   "metadata": {},
   "source": [
    "## Regression Analysis"
   ]
  },
  {
   "cell_type": "markdown",
   "id": "5bfebb17",
   "metadata": {},
   "source": [
    "a. Analysis for profit using sklearn linear model"
   ]
  },
  {
   "cell_type": "code",
   "execution_count": 68,
   "id": "bb5399f5",
   "metadata": {
    "scrolled": false
   },
   "outputs": [
    {
     "data": {
      "text/plain": [
       "Index(['order_id', 'order_date', 'ship_date', 'ship_mode', 'customer_id',\n",
       "       'customer_name', 'segment', 'city', 'state', 'postal_code', 'region',\n",
       "       'product_id', 'category', 'sub_category', 'product_name', 'sales',\n",
       "       'quantity', 'discount', 'profit'],\n",
       "      dtype='object')"
      ]
     },
     "execution_count": 68,
     "metadata": {},
     "output_type": "execute_result"
    }
   ],
   "source": [
    "df.columns"
   ]
  },
  {
   "cell_type": "code",
   "execution_count": 70,
   "id": "dfdbc7e9",
   "metadata": {},
   "outputs": [],
   "source": [
    "reg_df = df.copy()"
   ]
  },
  {
   "cell_type": "code",
   "execution_count": 71,
   "id": "104a510c",
   "metadata": {
    "scrolled": true
   },
   "outputs": [
    {
     "data": {
      "text/html": [
       "<div>\n",
       "<style scoped>\n",
       "    .dataframe tbody tr th:only-of-type {\n",
       "        vertical-align: middle;\n",
       "    }\n",
       "\n",
       "    .dataframe tbody tr th {\n",
       "        vertical-align: top;\n",
       "    }\n",
       "\n",
       "    .dataframe thead th {\n",
       "        text-align: right;\n",
       "    }\n",
       "</style>\n",
       "<table border=\"1\" class=\"dataframe\">\n",
       "  <thead>\n",
       "    <tr style=\"text-align: right;\">\n",
       "      <th></th>\n",
       "      <th>order_id</th>\n",
       "      <th>order_date</th>\n",
       "      <th>ship_date</th>\n",
       "      <th>ship_mode</th>\n",
       "      <th>customer_id</th>\n",
       "      <th>customer_name</th>\n",
       "      <th>segment</th>\n",
       "      <th>city</th>\n",
       "      <th>state</th>\n",
       "      <th>postal_code</th>\n",
       "      <th>region</th>\n",
       "      <th>product_id</th>\n",
       "      <th>category</th>\n",
       "      <th>sub_category</th>\n",
       "      <th>product_name</th>\n",
       "      <th>sales</th>\n",
       "      <th>quantity</th>\n",
       "      <th>discount</th>\n",
       "      <th>profit</th>\n",
       "    </tr>\n",
       "  </thead>\n",
       "  <tbody>\n",
       "    <tr>\n",
       "      <th>0</th>\n",
       "      <td>CA-2016-152156</td>\n",
       "      <td>2016-11-08</td>\n",
       "      <td>2016-11-11</td>\n",
       "      <td>Second Class</td>\n",
       "      <td>CG-12520</td>\n",
       "      <td>Claire Gute</td>\n",
       "      <td>Consumer</td>\n",
       "      <td>Henderson</td>\n",
       "      <td>Kentucky</td>\n",
       "      <td>42420</td>\n",
       "      <td>South</td>\n",
       "      <td>FUR-BO-10001798</td>\n",
       "      <td>Furniture</td>\n",
       "      <td>Bookcases</td>\n",
       "      <td>Bush Somerset Collection Bookcase</td>\n",
       "      <td>261.9600</td>\n",
       "      <td>2</td>\n",
       "      <td>0.00</td>\n",
       "      <td>41.9136</td>\n",
       "    </tr>\n",
       "    <tr>\n",
       "      <th>1</th>\n",
       "      <td>CA-2016-152156</td>\n",
       "      <td>2016-11-08</td>\n",
       "      <td>2016-11-11</td>\n",
       "      <td>Second Class</td>\n",
       "      <td>CG-12520</td>\n",
       "      <td>Claire Gute</td>\n",
       "      <td>Consumer</td>\n",
       "      <td>Henderson</td>\n",
       "      <td>Kentucky</td>\n",
       "      <td>42420</td>\n",
       "      <td>South</td>\n",
       "      <td>FUR-CH-10000454</td>\n",
       "      <td>Furniture</td>\n",
       "      <td>Chairs</td>\n",
       "      <td>Hon Deluxe Fabric Upholstered Stacking Chairs,...</td>\n",
       "      <td>731.9400</td>\n",
       "      <td>3</td>\n",
       "      <td>0.00</td>\n",
       "      <td>219.5820</td>\n",
       "    </tr>\n",
       "    <tr>\n",
       "      <th>2</th>\n",
       "      <td>CA-2016-138688</td>\n",
       "      <td>2016-06-12</td>\n",
       "      <td>2016-06-16</td>\n",
       "      <td>Second Class</td>\n",
       "      <td>DV-13045</td>\n",
       "      <td>Darrin Van Huff</td>\n",
       "      <td>Corporate</td>\n",
       "      <td>Los Angeles</td>\n",
       "      <td>California</td>\n",
       "      <td>90036</td>\n",
       "      <td>West</td>\n",
       "      <td>OFF-LA-10000240</td>\n",
       "      <td>Office Supplies</td>\n",
       "      <td>Labels</td>\n",
       "      <td>Self-Adhesive Address Labels for Typewriters b...</td>\n",
       "      <td>14.6200</td>\n",
       "      <td>2</td>\n",
       "      <td>0.00</td>\n",
       "      <td>6.8714</td>\n",
       "    </tr>\n",
       "    <tr>\n",
       "      <th>3</th>\n",
       "      <td>US-2015-108966</td>\n",
       "      <td>2015-10-11</td>\n",
       "      <td>2015-10-18</td>\n",
       "      <td>Standard Class</td>\n",
       "      <td>SO-20335</td>\n",
       "      <td>Sean O'Donnell</td>\n",
       "      <td>Consumer</td>\n",
       "      <td>Fort Lauderdale</td>\n",
       "      <td>Florida</td>\n",
       "      <td>33311</td>\n",
       "      <td>South</td>\n",
       "      <td>FUR-TA-10000577</td>\n",
       "      <td>Furniture</td>\n",
       "      <td>Tables</td>\n",
       "      <td>Bretford CR4500 Series Slim Rectangular Table</td>\n",
       "      <td>957.5775</td>\n",
       "      <td>5</td>\n",
       "      <td>0.45</td>\n",
       "      <td>-383.0310</td>\n",
       "    </tr>\n",
       "    <tr>\n",
       "      <th>4</th>\n",
       "      <td>US-2015-108966</td>\n",
       "      <td>2015-10-11</td>\n",
       "      <td>2015-10-18</td>\n",
       "      <td>Standard Class</td>\n",
       "      <td>SO-20335</td>\n",
       "      <td>Sean O'Donnell</td>\n",
       "      <td>Consumer</td>\n",
       "      <td>Fort Lauderdale</td>\n",
       "      <td>Florida</td>\n",
       "      <td>33311</td>\n",
       "      <td>South</td>\n",
       "      <td>OFF-ST-10000760</td>\n",
       "      <td>Office Supplies</td>\n",
       "      <td>Storage</td>\n",
       "      <td>Eldon Fold 'N Roll Cart System</td>\n",
       "      <td>22.3680</td>\n",
       "      <td>2</td>\n",
       "      <td>0.20</td>\n",
       "      <td>2.5164</td>\n",
       "    </tr>\n",
       "  </tbody>\n",
       "</table>\n",
       "</div>"
      ],
      "text/plain": [
       "         order_id order_date  ship_date       ship_mode customer_id  \\\n",
       "0  CA-2016-152156 2016-11-08 2016-11-11    Second Class    CG-12520   \n",
       "1  CA-2016-152156 2016-11-08 2016-11-11    Second Class    CG-12520   \n",
       "2  CA-2016-138688 2016-06-12 2016-06-16    Second Class    DV-13045   \n",
       "3  US-2015-108966 2015-10-11 2015-10-18  Standard Class    SO-20335   \n",
       "4  US-2015-108966 2015-10-11 2015-10-18  Standard Class    SO-20335   \n",
       "\n",
       "     customer_name    segment             city       state postal_code region  \\\n",
       "0      Claire Gute   Consumer        Henderson    Kentucky       42420  South   \n",
       "1      Claire Gute   Consumer        Henderson    Kentucky       42420  South   \n",
       "2  Darrin Van Huff  Corporate      Los Angeles  California       90036   West   \n",
       "3   Sean O'Donnell   Consumer  Fort Lauderdale     Florida       33311  South   \n",
       "4   Sean O'Donnell   Consumer  Fort Lauderdale     Florida       33311  South   \n",
       "\n",
       "        product_id         category sub_category  \\\n",
       "0  FUR-BO-10001798        Furniture    Bookcases   \n",
       "1  FUR-CH-10000454        Furniture       Chairs   \n",
       "2  OFF-LA-10000240  Office Supplies       Labels   \n",
       "3  FUR-TA-10000577        Furniture       Tables   \n",
       "4  OFF-ST-10000760  Office Supplies      Storage   \n",
       "\n",
       "                                        product_name     sales  quantity  \\\n",
       "0                  Bush Somerset Collection Bookcase  261.9600         2   \n",
       "1  Hon Deluxe Fabric Upholstered Stacking Chairs,...  731.9400         3   \n",
       "2  Self-Adhesive Address Labels for Typewriters b...   14.6200         2   \n",
       "3      Bretford CR4500 Series Slim Rectangular Table  957.5775         5   \n",
       "4                     Eldon Fold 'N Roll Cart System   22.3680         2   \n",
       "\n",
       "   discount    profit  \n",
       "0      0.00   41.9136  \n",
       "1      0.00  219.5820  \n",
       "2      0.00    6.8714  \n",
       "3      0.45 -383.0310  \n",
       "4      0.20    2.5164  "
      ]
     },
     "execution_count": 71,
     "metadata": {},
     "output_type": "execute_result"
    }
   ],
   "source": [
    "reg_df.head()"
   ]
  },
  {
   "cell_type": "code",
   "execution_count": 73,
   "id": "0bbcb5a4",
   "metadata": {
    "scrolled": true
   },
   "outputs": [
    {
     "data": {
      "text/plain": [
       "Index(['order_id', 'order_date', 'ship_date', 'ship_mode', 'customer_id',\n",
       "       'customer_name', 'segment', 'city', 'state', 'postal_code', 'region',\n",
       "       'product_id', 'category', 'sub_category', 'product_name', 'sales',\n",
       "       'quantity', 'discount', 'profit'],\n",
       "      dtype='object')"
      ]
     },
     "execution_count": 73,
     "metadata": {},
     "output_type": "execute_result"
    }
   ],
   "source": [
    "reg_df.columns"
   ]
  },
  {
   "cell_type": "code",
   "execution_count": 83,
   "id": "6954e47b",
   "metadata": {},
   "outputs": [],
   "source": [
    "reg_dummies = pd.get_dummies(reg_df, prefix= '', prefix_sep='', columns= [ 'ship_mode', 'segment',  'region','category'])"
   ]
  },
  {
   "cell_type": "code",
   "execution_count": 84,
   "id": "5b1b2a0e",
   "metadata": {},
   "outputs": [
    {
     "data": {
      "text/html": [
       "<div>\n",
       "<style scoped>\n",
       "    .dataframe tbody tr th:only-of-type {\n",
       "        vertical-align: middle;\n",
       "    }\n",
       "\n",
       "    .dataframe tbody tr th {\n",
       "        vertical-align: top;\n",
       "    }\n",
       "\n",
       "    .dataframe thead th {\n",
       "        text-align: right;\n",
       "    }\n",
       "</style>\n",
       "<table border=\"1\" class=\"dataframe\">\n",
       "  <thead>\n",
       "    <tr style=\"text-align: right;\">\n",
       "      <th></th>\n",
       "      <th>order_id</th>\n",
       "      <th>order_date</th>\n",
       "      <th>ship_date</th>\n",
       "      <th>customer_id</th>\n",
       "      <th>customer_name</th>\n",
       "      <th>city</th>\n",
       "      <th>state</th>\n",
       "      <th>postal_code</th>\n",
       "      <th>product_id</th>\n",
       "      <th>sub_category</th>\n",
       "      <th>...</th>\n",
       "      <th>Consumer</th>\n",
       "      <th>Corporate</th>\n",
       "      <th>Home Office</th>\n",
       "      <th>Central</th>\n",
       "      <th>East</th>\n",
       "      <th>South</th>\n",
       "      <th>West</th>\n",
       "      <th>Furniture</th>\n",
       "      <th>Office Supplies</th>\n",
       "      <th>Technology</th>\n",
       "    </tr>\n",
       "  </thead>\n",
       "  <tbody>\n",
       "    <tr>\n",
       "      <th>0</th>\n",
       "      <td>CA-2016-152156</td>\n",
       "      <td>2016-11-08</td>\n",
       "      <td>2016-11-11</td>\n",
       "      <td>CG-12520</td>\n",
       "      <td>Claire Gute</td>\n",
       "      <td>Henderson</td>\n",
       "      <td>Kentucky</td>\n",
       "      <td>42420</td>\n",
       "      <td>FUR-BO-10001798</td>\n",
       "      <td>Bookcases</td>\n",
       "      <td>...</td>\n",
       "      <td>1</td>\n",
       "      <td>0</td>\n",
       "      <td>0</td>\n",
       "      <td>0</td>\n",
       "      <td>0</td>\n",
       "      <td>1</td>\n",
       "      <td>0</td>\n",
       "      <td>1</td>\n",
       "      <td>0</td>\n",
       "      <td>0</td>\n",
       "    </tr>\n",
       "    <tr>\n",
       "      <th>1</th>\n",
       "      <td>CA-2016-152156</td>\n",
       "      <td>2016-11-08</td>\n",
       "      <td>2016-11-11</td>\n",
       "      <td>CG-12520</td>\n",
       "      <td>Claire Gute</td>\n",
       "      <td>Henderson</td>\n",
       "      <td>Kentucky</td>\n",
       "      <td>42420</td>\n",
       "      <td>FUR-CH-10000454</td>\n",
       "      <td>Chairs</td>\n",
       "      <td>...</td>\n",
       "      <td>1</td>\n",
       "      <td>0</td>\n",
       "      <td>0</td>\n",
       "      <td>0</td>\n",
       "      <td>0</td>\n",
       "      <td>1</td>\n",
       "      <td>0</td>\n",
       "      <td>1</td>\n",
       "      <td>0</td>\n",
       "      <td>0</td>\n",
       "    </tr>\n",
       "    <tr>\n",
       "      <th>2</th>\n",
       "      <td>CA-2016-138688</td>\n",
       "      <td>2016-06-12</td>\n",
       "      <td>2016-06-16</td>\n",
       "      <td>DV-13045</td>\n",
       "      <td>Darrin Van Huff</td>\n",
       "      <td>Los Angeles</td>\n",
       "      <td>California</td>\n",
       "      <td>90036</td>\n",
       "      <td>OFF-LA-10000240</td>\n",
       "      <td>Labels</td>\n",
       "      <td>...</td>\n",
       "      <td>0</td>\n",
       "      <td>1</td>\n",
       "      <td>0</td>\n",
       "      <td>0</td>\n",
       "      <td>0</td>\n",
       "      <td>0</td>\n",
       "      <td>1</td>\n",
       "      <td>0</td>\n",
       "      <td>1</td>\n",
       "      <td>0</td>\n",
       "    </tr>\n",
       "    <tr>\n",
       "      <th>3</th>\n",
       "      <td>US-2015-108966</td>\n",
       "      <td>2015-10-11</td>\n",
       "      <td>2015-10-18</td>\n",
       "      <td>SO-20335</td>\n",
       "      <td>Sean O'Donnell</td>\n",
       "      <td>Fort Lauderdale</td>\n",
       "      <td>Florida</td>\n",
       "      <td>33311</td>\n",
       "      <td>FUR-TA-10000577</td>\n",
       "      <td>Tables</td>\n",
       "      <td>...</td>\n",
       "      <td>1</td>\n",
       "      <td>0</td>\n",
       "      <td>0</td>\n",
       "      <td>0</td>\n",
       "      <td>0</td>\n",
       "      <td>1</td>\n",
       "      <td>0</td>\n",
       "      <td>1</td>\n",
       "      <td>0</td>\n",
       "      <td>0</td>\n",
       "    </tr>\n",
       "    <tr>\n",
       "      <th>4</th>\n",
       "      <td>US-2015-108966</td>\n",
       "      <td>2015-10-11</td>\n",
       "      <td>2015-10-18</td>\n",
       "      <td>SO-20335</td>\n",
       "      <td>Sean O'Donnell</td>\n",
       "      <td>Fort Lauderdale</td>\n",
       "      <td>Florida</td>\n",
       "      <td>33311</td>\n",
       "      <td>OFF-ST-10000760</td>\n",
       "      <td>Storage</td>\n",
       "      <td>...</td>\n",
       "      <td>1</td>\n",
       "      <td>0</td>\n",
       "      <td>0</td>\n",
       "      <td>0</td>\n",
       "      <td>0</td>\n",
       "      <td>1</td>\n",
       "      <td>0</td>\n",
       "      <td>0</td>\n",
       "      <td>1</td>\n",
       "      <td>0</td>\n",
       "    </tr>\n",
       "  </tbody>\n",
       "</table>\n",
       "<p>5 rows × 29 columns</p>\n",
       "</div>"
      ],
      "text/plain": [
       "         order_id order_date  ship_date customer_id    customer_name  \\\n",
       "0  CA-2016-152156 2016-11-08 2016-11-11    CG-12520      Claire Gute   \n",
       "1  CA-2016-152156 2016-11-08 2016-11-11    CG-12520      Claire Gute   \n",
       "2  CA-2016-138688 2016-06-12 2016-06-16    DV-13045  Darrin Van Huff   \n",
       "3  US-2015-108966 2015-10-11 2015-10-18    SO-20335   Sean O'Donnell   \n",
       "4  US-2015-108966 2015-10-11 2015-10-18    SO-20335   Sean O'Donnell   \n",
       "\n",
       "              city       state postal_code       product_id sub_category  ...  \\\n",
       "0        Henderson    Kentucky       42420  FUR-BO-10001798    Bookcases  ...   \n",
       "1        Henderson    Kentucky       42420  FUR-CH-10000454       Chairs  ...   \n",
       "2      Los Angeles  California       90036  OFF-LA-10000240       Labels  ...   \n",
       "3  Fort Lauderdale     Florida       33311  FUR-TA-10000577       Tables  ...   \n",
       "4  Fort Lauderdale     Florida       33311  OFF-ST-10000760      Storage  ...   \n",
       "\n",
       "  Consumer  Corporate  Home Office  Central  East  South  West  Furniture  \\\n",
       "0        1          0            0        0     0      1     0          1   \n",
       "1        1          0            0        0     0      1     0          1   \n",
       "2        0          1            0        0     0      0     1          0   \n",
       "3        1          0            0        0     0      1     0          1   \n",
       "4        1          0            0        0     0      1     0          0   \n",
       "\n",
       "   Office Supplies  Technology  \n",
       "0                0           0  \n",
       "1                0           0  \n",
       "2                1           0  \n",
       "3                0           0  \n",
       "4                1           0  \n",
       "\n",
       "[5 rows x 29 columns]"
      ]
     },
     "execution_count": 84,
     "metadata": {},
     "output_type": "execute_result"
    }
   ],
   "source": [
    "reg_dummies.head()"
   ]
  },
  {
   "cell_type": "code",
   "execution_count": 85,
   "id": "7919e188",
   "metadata": {},
   "outputs": [
    {
     "data": {
      "text/plain": [
       "Index(['order_id', 'order_date', 'ship_date', 'customer_id', 'customer_name',\n",
       "       'city', 'state', 'postal_code', 'product_id', 'sub_category',\n",
       "       'product_name', 'sales', 'quantity', 'discount', 'profit',\n",
       "       'First Class', 'Same Day', 'Second Class', 'Standard Class', 'Consumer',\n",
       "       'Corporate', 'Home Office', 'Central', 'East', 'South', 'West',\n",
       "       'Furniture', 'Office Supplies', 'Technology'],\n",
       "      dtype='object')"
      ]
     },
     "execution_count": 85,
     "metadata": {},
     "output_type": "execute_result"
    }
   ],
   "source": [
    "reg_dummies.columns"
   ]
  },
  {
   "cell_type": "code",
   "execution_count": 86,
   "id": "19cc4f6a",
   "metadata": {},
   "outputs": [
    {
     "data": {
      "text/html": [
       "<div>\n",
       "<style scoped>\n",
       "    .dataframe tbody tr th:only-of-type {\n",
       "        vertical-align: middle;\n",
       "    }\n",
       "\n",
       "    .dataframe tbody tr th {\n",
       "        vertical-align: top;\n",
       "    }\n",
       "\n",
       "    .dataframe thead th {\n",
       "        text-align: right;\n",
       "    }\n",
       "</style>\n",
       "<table border=\"1\" class=\"dataframe\">\n",
       "  <thead>\n",
       "    <tr style=\"text-align: right;\">\n",
       "      <th></th>\n",
       "      <th>sales</th>\n",
       "      <th>quantity</th>\n",
       "      <th>discount</th>\n",
       "      <th>profit</th>\n",
       "      <th>First Class</th>\n",
       "      <th>Same Day</th>\n",
       "      <th>Second Class</th>\n",
       "      <th>Standard Class</th>\n",
       "      <th>Consumer</th>\n",
       "      <th>Corporate</th>\n",
       "      <th>Home Office</th>\n",
       "      <th>Central</th>\n",
       "      <th>East</th>\n",
       "      <th>South</th>\n",
       "      <th>West</th>\n",
       "      <th>Furniture</th>\n",
       "      <th>Office Supplies</th>\n",
       "      <th>Technology</th>\n",
       "    </tr>\n",
       "  </thead>\n",
       "  <tbody>\n",
       "    <tr>\n",
       "      <th>sales</th>\n",
       "      <td>1.000000</td>\n",
       "      <td>0.200795</td>\n",
       "      <td>-0.028190</td>\n",
       "      <td>0.479064</td>\n",
       "      <td>-0.000931</td>\n",
       "      <td>0.002515</td>\n",
       "      <td>0.004915</td>\n",
       "      <td>-0.004444</td>\n",
       "      <td>-0.010216</td>\n",
       "      <td>0.004187</td>\n",
       "      <td>0.008310</td>\n",
       "      <td>-0.012437</td>\n",
       "      <td>0.008588</td>\n",
       "      <td>0.008431</td>\n",
       "      <td>-0.003708</td>\n",
       "      <td>0.099922</td>\n",
       "      <td>-0.218568</td>\n",
       "      <td>0.170260</td>\n",
       "    </tr>\n",
       "    <tr>\n",
       "      <th>quantity</th>\n",
       "      <td>0.200795</td>\n",
       "      <td>1.000000</td>\n",
       "      <td>0.008623</td>\n",
       "      <td>0.066253</td>\n",
       "      <td>-0.016870</td>\n",
       "      <td>-0.019391</td>\n",
       "      <td>0.005938</td>\n",
       "      <td>0.016580</td>\n",
       "      <td>-0.013562</td>\n",
       "      <td>0.016011</td>\n",
       "      <td>-0.001505</td>\n",
       "      <td>-0.002468</td>\n",
       "      <td>-0.017405</td>\n",
       "      <td>0.008528</td>\n",
       "      <td>0.012334</td>\n",
       "      <td>-0.001065</td>\n",
       "      <td>0.006436</td>\n",
       "      <td>-0.006991</td>\n",
       "    </tr>\n",
       "    <tr>\n",
       "      <th>discount</th>\n",
       "      <td>-0.028190</td>\n",
       "      <td>0.008623</td>\n",
       "      <td>1.000000</td>\n",
       "      <td>-0.219487</td>\n",
       "      <td>0.017368</td>\n",
       "      <td>-0.004422</td>\n",
       "      <td>-0.041214</td>\n",
       "      <td>0.022533</td>\n",
       "      <td>0.009761</td>\n",
       "      <td>0.006457</td>\n",
       "      <td>-0.020483</td>\n",
       "      <td>0.224314</td>\n",
       "      <td>-0.033142</td>\n",
       "      <td>-0.019068</td>\n",
       "      <td>-0.155915</td>\n",
       "      <td>0.044552</td>\n",
       "      <td>0.006461</td>\n",
       "      <td>-0.055077</td>\n",
       "    </tr>\n",
       "    <tr>\n",
       "      <th>profit</th>\n",
       "      <td>0.479064</td>\n",
       "      <td>0.066253</td>\n",
       "      <td>-0.219487</td>\n",
       "      <td>1.000000</td>\n",
       "      <td>0.005795</td>\n",
       "      <td>0.000624</td>\n",
       "      <td>0.001844</td>\n",
       "      <td>-0.006040</td>\n",
       "      <td>-0.012515</td>\n",
       "      <td>0.005056</td>\n",
       "      <td>0.010268</td>\n",
       "      <td>-0.027167</td>\n",
       "      <td>0.009376</td>\n",
       "      <td>0.000377</td>\n",
       "      <td>0.015222</td>\n",
       "      <td>-0.044221</td>\n",
       "      <td>-0.043822</td>\n",
       "      <td>0.101825</td>\n",
       "    </tr>\n",
       "    <tr>\n",
       "      <th>First Class</th>\n",
       "      <td>-0.000931</td>\n",
       "      <td>-0.016870</td>\n",
       "      <td>0.017368</td>\n",
       "      <td>0.005795</td>\n",
       "      <td>1.000000</td>\n",
       "      <td>-0.102225</td>\n",
       "      <td>-0.209645</td>\n",
       "      <td>-0.519246</td>\n",
       "      <td>-0.016570</td>\n",
       "      <td>0.012225</td>\n",
       "      <td>0.006960</td>\n",
       "      <td>-0.038399</td>\n",
       "      <td>0.031768</td>\n",
       "      <td>-0.011516</td>\n",
       "      <td>0.013122</td>\n",
       "      <td>0.000403</td>\n",
       "      <td>-0.009836</td>\n",
       "      <td>0.011974</td>\n",
       "    </tr>\n",
       "  </tbody>\n",
       "</table>\n",
       "</div>"
      ],
      "text/plain": [
       "                sales  quantity  discount    profit  First Class  Same Day  \\\n",
       "sales        1.000000  0.200795 -0.028190  0.479064    -0.000931  0.002515   \n",
       "quantity     0.200795  1.000000  0.008623  0.066253    -0.016870 -0.019391   \n",
       "discount    -0.028190  0.008623  1.000000 -0.219487     0.017368 -0.004422   \n",
       "profit       0.479064  0.066253 -0.219487  1.000000     0.005795  0.000624   \n",
       "First Class -0.000931 -0.016870  0.017368  0.005795     1.000000 -0.102225   \n",
       "\n",
       "             Second Class  Standard Class  Consumer  Corporate  Home Office  \\\n",
       "sales            0.004915       -0.004444 -0.010216   0.004187     0.008310   \n",
       "quantity         0.005938        0.016580 -0.013562   0.016011    -0.001505   \n",
       "discount        -0.041214        0.022533  0.009761   0.006457    -0.020483   \n",
       "profit           0.001844       -0.006040 -0.012515   0.005056     0.010268   \n",
       "First Class     -0.209645       -0.519246 -0.016570   0.012225     0.006960   \n",
       "\n",
       "              Central      East     South      West  Furniture  \\\n",
       "sales       -0.012437  0.008588  0.008431 -0.003708   0.099922   \n",
       "quantity    -0.002468 -0.017405  0.008528  0.012334  -0.001065   \n",
       "discount     0.224314 -0.033142 -0.019068 -0.155915   0.044552   \n",
       "profit      -0.027167  0.009376  0.000377  0.015222  -0.044221   \n",
       "First Class -0.038399  0.031768 -0.011516  0.013122   0.000403   \n",
       "\n",
       "             Office Supplies  Technology  \n",
       "sales              -0.218568    0.170260  \n",
       "quantity            0.006436   -0.006991  \n",
       "discount            0.006461   -0.055077  \n",
       "profit             -0.043822    0.101825  \n",
       "First Class        -0.009836    0.011974  "
      ]
     },
     "execution_count": 86,
     "metadata": {},
     "output_type": "execute_result"
    }
   ],
   "source": [
    "corr = reg_dummies.corr()\n",
    "corr.head()"
   ]
  },
  {
   "cell_type": "code",
   "execution_count": 87,
   "id": "abed161d",
   "metadata": {},
   "outputs": [
    {
     "name": "stderr",
     "output_type": "stream",
     "text": [
      "C:\\Users\\osazu\\AppData\\Local\\Temp/ipykernel_16368/259429173.py:2: DeprecationWarning: `np.bool` is a deprecated alias for the builtin `bool`. To silence this warning, use `bool` by itself. Doing this will not modify any behavior and is safe. If you specifically wanted the numpy scalar type, use `np.bool_` here.\n",
      "Deprecated in NumPy 1.20; for more details and guidance: https://numpy.org/devdocs/release/1.20.0-notes.html#deprecations\n",
      "  mask = np.zeros_like(corr, dtype=np.bool)\n"
     ]
    }
   ],
   "source": [
    "# Exclude duplicate correlations by masking uper right values\n",
    "mask = np.zeros_like(corr, dtype=np.bool)\n",
    "mask[np.triu_indices_from(mask)] = True\n"
   ]
  },
  {
   "cell_type": "code",
   "execution_count": null,
   "id": "57d8d698",
   "metadata": {},
   "outputs": [],
   "source": []
  },
  {
   "cell_type": "code",
   "execution_count": 88,
   "id": "2abefb65",
   "metadata": {},
   "outputs": [
    {
     "data": {
      "text/plain": [
       "<AxesSubplot:>"
      ]
     },
     "execution_count": 88,
     "metadata": {},
     "output_type": "execute_result"
    },
    {
     "data": {
      "image/png": "[encoded data removed]",
      "text/plain": [
       "<Figure size 792x648 with 2 Axes>"
      ]
     },
     "metadata": {},
     "output_type": "display_data"
    }
   ],
   "source": [
    "# Set background color / chart style\n",
    "sns.set_style(style = 'white')\n",
    "\n",
    "# Set up  matplotlib figure\n",
    "f, ax = plt.subplots(figsize=(11, 9))\n",
    "\n",
    "# Add diverging colormap\n",
    "cmap = sns.diverging_palette(10, 250, as_cmap=True)\n",
    "\n",
    "# Draw correlation plot\n",
    "sns.heatmap(corr, mask=mask, cmap=cmap, \n",
    "        square=True,\n",
    "        linewidths=.5, cbar_kws={\"shrink\": .5}, ax=ax)"
   ]
  },
  {
   "cell_type": "code",
   "execution_count": 91,
   "id": "a3ded787",
   "metadata": {
    "scrolled": true
   },
   "outputs": [
    {
     "data": {
      "text/plain": [
       "Index(['sales', 'quantity', 'discount', 'profit', 'First Class', 'Same Day',\n",
       "       'Second Class', 'Standard Class', 'Consumer', 'Corporate',\n",
       "       'Home Office', 'Central', 'East', 'South', 'West', 'Furniture',\n",
       "       'Office Supplies', 'Technology'],\n",
       "      dtype='object')"
      ]
     },
     "execution_count": 91,
     "metadata": {},
     "output_type": "execute_result"
    }
   ],
   "source": [
    "corr.columns"
   ]
  },
  {
   "cell_type": "code",
   "execution_count": 101,
   "id": "efa66b0f",
   "metadata": {},
   "outputs": [
    {
     "data": {
      "text/html": [
       "<div>\n",
       "<style scoped>\n",
       "    .dataframe tbody tr th:only-of-type {\n",
       "        vertical-align: middle;\n",
       "    }\n",
       "\n",
       "    .dataframe tbody tr th {\n",
       "        vertical-align: top;\n",
       "    }\n",
       "\n",
       "    .dataframe thead th {\n",
       "        text-align: right;\n",
       "    }\n",
       "</style>\n",
       "<table border=\"1\" class=\"dataframe\">\n",
       "  <thead>\n",
       "    <tr style=\"text-align: right;\">\n",
       "      <th></th>\n",
       "      <th>sales</th>\n",
       "      <th>quantity</th>\n",
       "      <th>discount</th>\n",
       "      <th>profit</th>\n",
       "      <th>First Class</th>\n",
       "      <th>Same Day</th>\n",
       "      <th>Second Class</th>\n",
       "      <th>Standard Class</th>\n",
       "      <th>Consumer</th>\n",
       "      <th>Corporate</th>\n",
       "      <th>Home Office</th>\n",
       "      <th>Central</th>\n",
       "      <th>East</th>\n",
       "      <th>South</th>\n",
       "      <th>West</th>\n",
       "      <th>Furniture</th>\n",
       "      <th>Office Supplies</th>\n",
       "      <th>Technology</th>\n",
       "    </tr>\n",
       "  </thead>\n",
       "  <tbody>\n",
       "    <tr>\n",
       "      <th>sales</th>\n",
       "      <td>1.000000</td>\n",
       "      <td>0.200795</td>\n",
       "      <td>-0.028190</td>\n",
       "      <td>0.479064</td>\n",
       "      <td>-0.000931</td>\n",
       "      <td>0.002515</td>\n",
       "      <td>0.004915</td>\n",
       "      <td>-0.004444</td>\n",
       "      <td>-0.010216</td>\n",
       "      <td>0.004187</td>\n",
       "      <td>0.008310</td>\n",
       "      <td>-0.012437</td>\n",
       "      <td>0.008588</td>\n",
       "      <td>0.008431</td>\n",
       "      <td>-0.003708</td>\n",
       "      <td>0.099922</td>\n",
       "      <td>-0.218568</td>\n",
       "      <td>0.170260</td>\n",
       "    </tr>\n",
       "    <tr>\n",
       "      <th>quantity</th>\n",
       "      <td>0.200795</td>\n",
       "      <td>1.000000</td>\n",
       "      <td>0.008623</td>\n",
       "      <td>0.066253</td>\n",
       "      <td>-0.016870</td>\n",
       "      <td>-0.019391</td>\n",
       "      <td>0.005938</td>\n",
       "      <td>0.016580</td>\n",
       "      <td>-0.013562</td>\n",
       "      <td>0.016011</td>\n",
       "      <td>-0.001505</td>\n",
       "      <td>-0.002468</td>\n",
       "      <td>-0.017405</td>\n",
       "      <td>0.008528</td>\n",
       "      <td>0.012334</td>\n",
       "      <td>-0.001065</td>\n",
       "      <td>0.006436</td>\n",
       "      <td>-0.006991</td>\n",
       "    </tr>\n",
       "    <tr>\n",
       "      <th>discount</th>\n",
       "      <td>-0.028190</td>\n",
       "      <td>0.008623</td>\n",
       "      <td>1.000000</td>\n",
       "      <td>-0.219487</td>\n",
       "      <td>0.017368</td>\n",
       "      <td>-0.004422</td>\n",
       "      <td>-0.041214</td>\n",
       "      <td>0.022533</td>\n",
       "      <td>0.009761</td>\n",
       "      <td>0.006457</td>\n",
       "      <td>-0.020483</td>\n",
       "      <td>0.224314</td>\n",
       "      <td>-0.033142</td>\n",
       "      <td>-0.019068</td>\n",
       "      <td>-0.155915</td>\n",
       "      <td>0.044552</td>\n",
       "      <td>0.006461</td>\n",
       "      <td>-0.055077</td>\n",
       "    </tr>\n",
       "    <tr>\n",
       "      <th>profit</th>\n",
       "      <td>0.479064</td>\n",
       "      <td>0.066253</td>\n",
       "      <td>-0.219487</td>\n",
       "      <td>1.000000</td>\n",
       "      <td>0.005795</td>\n",
       "      <td>0.000624</td>\n",
       "      <td>0.001844</td>\n",
       "      <td>-0.006040</td>\n",
       "      <td>-0.012515</td>\n",
       "      <td>0.005056</td>\n",
       "      <td>0.010268</td>\n",
       "      <td>-0.027167</td>\n",
       "      <td>0.009376</td>\n",
       "      <td>0.000377</td>\n",
       "      <td>0.015222</td>\n",
       "      <td>-0.044221</td>\n",
       "      <td>-0.043822</td>\n",
       "      <td>0.101825</td>\n",
       "    </tr>\n",
       "    <tr>\n",
       "      <th>First Class</th>\n",
       "      <td>-0.000931</td>\n",
       "      <td>-0.016870</td>\n",
       "      <td>0.017368</td>\n",
       "      <td>0.005795</td>\n",
       "      <td>1.000000</td>\n",
       "      <td>-0.102225</td>\n",
       "      <td>-0.209645</td>\n",
       "      <td>-0.519246</td>\n",
       "      <td>-0.016570</td>\n",
       "      <td>0.012225</td>\n",
       "      <td>0.006960</td>\n",
       "      <td>-0.038399</td>\n",
       "      <td>0.031768</td>\n",
       "      <td>-0.011516</td>\n",
       "      <td>0.013122</td>\n",
       "      <td>0.000403</td>\n",
       "      <td>-0.009836</td>\n",
       "      <td>0.011974</td>\n",
       "    </tr>\n",
       "    <tr>\n",
       "      <th>Same Day</th>\n",
       "      <td>0.002515</td>\n",
       "      <td>-0.019391</td>\n",
       "      <td>-0.004422</td>\n",
       "      <td>0.000624</td>\n",
       "      <td>-0.102225</td>\n",
       "      <td>1.000000</td>\n",
       "      <td>-0.117828</td>\n",
       "      <td>-0.291836</td>\n",
       "      <td>0.030888</td>\n",
       "      <td>-0.048146</td>\n",
       "      <td>0.017439</td>\n",
       "      <td>-0.006495</td>\n",
       "      <td>0.000255</td>\n",
       "      <td>-0.006011</td>\n",
       "      <td>0.010379</td>\n",
       "      <td>0.004060</td>\n",
       "      <td>-0.001271</td>\n",
       "      <td>-0.002675</td>\n",
       "    </tr>\n",
       "    <tr>\n",
       "      <th>Second Class</th>\n",
       "      <td>0.004915</td>\n",
       "      <td>0.005938</td>\n",
       "      <td>-0.041214</td>\n",
       "      <td>0.001844</td>\n",
       "      <td>-0.209645</td>\n",
       "      <td>-0.117828</td>\n",
       "      <td>1.000000</td>\n",
       "      <td>-0.598503</td>\n",
       "      <td>0.004929</td>\n",
       "      <td>0.011700</td>\n",
       "      <td>-0.020465</td>\n",
       "      <td>0.007722</td>\n",
       "      <td>-0.013588</td>\n",
       "      <td>0.009409</td>\n",
       "      <td>-0.001277</td>\n",
       "      <td>0.008788</td>\n",
       "      <td>-0.010724</td>\n",
       "      <td>0.004260</td>\n",
       "    </tr>\n",
       "    <tr>\n",
       "      <th>Standard Class</th>\n",
       "      <td>-0.004444</td>\n",
       "      <td>0.016580</td>\n",
       "      <td>0.022533</td>\n",
       "      <td>-0.006040</td>\n",
       "      <td>-0.519246</td>\n",
       "      <td>-0.291836</td>\n",
       "      <td>-0.598503</td>\n",
       "      <td>1.000000</td>\n",
       "      <td>-0.006063</td>\n",
       "      <td>0.003813</td>\n",
       "      <td>0.003339</td>\n",
       "      <td>0.025019</td>\n",
       "      <td>-0.012522</td>\n",
       "      <td>0.003655</td>\n",
       "      <td>-0.013420</td>\n",
       "      <td>-0.009267</td>\n",
       "      <td>0.016480</td>\n",
       "      <td>-0.011012</td>\n",
       "    </tr>\n",
       "    <tr>\n",
       "      <th>Consumer</th>\n",
       "      <td>-0.010216</td>\n",
       "      <td>-0.013562</td>\n",
       "      <td>0.009761</td>\n",
       "      <td>-0.012515</td>\n",
       "      <td>-0.016570</td>\n",
       "      <td>0.030888</td>\n",
       "      <td>0.004929</td>\n",
       "      <td>-0.006063</td>\n",
       "      <td>1.000000</td>\n",
       "      <td>-0.684119</td>\n",
       "      <td>-0.484448</td>\n",
       "      <td>0.002564</td>\n",
       "      <td>-0.004563</td>\n",
       "      <td>-0.001873</td>\n",
       "      <td>0.003572</td>\n",
       "      <td>0.005548</td>\n",
       "      <td>-0.001218</td>\n",
       "      <td>-0.004310</td>\n",
       "    </tr>\n",
       "    <tr>\n",
       "      <th>Corporate</th>\n",
       "      <td>0.004187</td>\n",
       "      <td>0.016011</td>\n",
       "      <td>0.006457</td>\n",
       "      <td>0.005056</td>\n",
       "      <td>0.012225</td>\n",
       "      <td>-0.048146</td>\n",
       "      <td>0.011700</td>\n",
       "      <td>0.003813</td>\n",
       "      <td>-0.684119</td>\n",
       "      <td>1.000000</td>\n",
       "      <td>-0.306648</td>\n",
       "      <td>-0.014943</td>\n",
       "      <td>0.007911</td>\n",
       "      <td>0.012101</td>\n",
       "      <td>-0.003683</td>\n",
       "      <td>0.002704</td>\n",
       "      <td>-0.000421</td>\n",
       "      <td>-0.002318</td>\n",
       "    </tr>\n",
       "    <tr>\n",
       "      <th>Home Office</th>\n",
       "      <td>0.008310</td>\n",
       "      <td>-0.001505</td>\n",
       "      <td>-0.020483</td>\n",
       "      <td>0.010268</td>\n",
       "      <td>0.006960</td>\n",
       "      <td>0.017439</td>\n",
       "      <td>-0.020465</td>\n",
       "      <td>0.003339</td>\n",
       "      <td>-0.484448</td>\n",
       "      <td>-0.306648</td>\n",
       "      <td>1.000000</td>\n",
       "      <td>0.014578</td>\n",
       "      <td>-0.003534</td>\n",
       "      <td>-0.012069</td>\n",
       "      <td>-0.000245</td>\n",
       "      <td>-0.010483</td>\n",
       "      <td>0.002093</td>\n",
       "      <td>0.008405</td>\n",
       "    </tr>\n",
       "    <tr>\n",
       "      <th>Central</th>\n",
       "      <td>-0.012437</td>\n",
       "      <td>-0.002468</td>\n",
       "      <td>0.224314</td>\n",
       "      <td>-0.027167</td>\n",
       "      <td>-0.038399</td>\n",
       "      <td>-0.006495</td>\n",
       "      <td>0.007722</td>\n",
       "      <td>0.025019</td>\n",
       "      <td>0.002564</td>\n",
       "      <td>-0.014943</td>\n",
       "      <td>0.014578</td>\n",
       "      <td>1.000000</td>\n",
       "      <td>-0.347406</td>\n",
       "      <td>-0.242041</td>\n",
       "      <td>-0.377929</td>\n",
       "      <td>-0.006955</td>\n",
       "      <td>0.010322</td>\n",
       "      <td>-0.005686</td>\n",
       "    </tr>\n",
       "    <tr>\n",
       "      <th>East</th>\n",
       "      <td>0.008588</td>\n",
       "      <td>-0.017405</td>\n",
       "      <td>-0.033142</td>\n",
       "      <td>0.009376</td>\n",
       "      <td>0.031768</td>\n",
       "      <td>0.000255</td>\n",
       "      <td>-0.013588</td>\n",
       "      <td>-0.012522</td>\n",
       "      <td>-0.004563</td>\n",
       "      <td>0.007911</td>\n",
       "      <td>-0.003534</td>\n",
       "      <td>-0.347406</td>\n",
       "      <td>1.000000</td>\n",
       "      <td>-0.277670</td>\n",
       "      <td>-0.433561</td>\n",
       "      <td>-0.001856</td>\n",
       "      <td>-0.002372</td>\n",
       "      <td>0.004945</td>\n",
       "    </tr>\n",
       "    <tr>\n",
       "      <th>South</th>\n",
       "      <td>0.008431</td>\n",
       "      <td>0.008528</td>\n",
       "      <td>-0.019068</td>\n",
       "      <td>0.000377</td>\n",
       "      <td>-0.011516</td>\n",
       "      <td>-0.006011</td>\n",
       "      <td>0.009409</td>\n",
       "      <td>0.003655</td>\n",
       "      <td>-0.001873</td>\n",
       "      <td>0.012101</td>\n",
       "      <td>-0.012069</td>\n",
       "      <td>-0.242041</td>\n",
       "      <td>-0.277670</td>\n",
       "      <td>1.000000</td>\n",
       "      <td>-0.302067</td>\n",
       "      <td>-0.007841</td>\n",
       "      <td>0.010100</td>\n",
       "      <td>-0.004472</td>\n",
       "    </tr>\n",
       "    <tr>\n",
       "      <th>West</th>\n",
       "      <td>-0.003708</td>\n",
       "      <td>0.012334</td>\n",
       "      <td>-0.155915</td>\n",
       "      <td>0.015222</td>\n",
       "      <td>0.013122</td>\n",
       "      <td>0.010379</td>\n",
       "      <td>-0.001277</td>\n",
       "      <td>-0.013420</td>\n",
       "      <td>0.003572</td>\n",
       "      <td>-0.003683</td>\n",
       "      <td>-0.000245</td>\n",
       "      <td>-0.377929</td>\n",
       "      <td>-0.433561</td>\n",
       "      <td>-0.302067</td>\n",
       "      <td>1.000000</td>\n",
       "      <td>0.014282</td>\n",
       "      <td>-0.015025</td>\n",
       "      <td>0.003895</td>\n",
       "    </tr>\n",
       "    <tr>\n",
       "      <th>Furniture</th>\n",
       "      <td>0.099922</td>\n",
       "      <td>-0.001065</td>\n",
       "      <td>0.044552</td>\n",
       "      <td>-0.044221</td>\n",
       "      <td>0.000403</td>\n",
       "      <td>0.004060</td>\n",
       "      <td>0.008788</td>\n",
       "      <td>-0.009267</td>\n",
       "      <td>0.005548</td>\n",
       "      <td>0.002704</td>\n",
       "      <td>-0.010483</td>\n",
       "      <td>-0.006955</td>\n",
       "      <td>-0.001856</td>\n",
       "      <td>-0.007841</td>\n",
       "      <td>0.014282</td>\n",
       "      <td>1.000000</td>\n",
       "      <td>-0.639630</td>\n",
       "      <td>-0.247135</td>\n",
       "    </tr>\n",
       "    <tr>\n",
       "      <th>Office Supplies</th>\n",
       "      <td>-0.218568</td>\n",
       "      <td>0.006436</td>\n",
       "      <td>0.006461</td>\n",
       "      <td>-0.043822</td>\n",
       "      <td>-0.009836</td>\n",
       "      <td>-0.001271</td>\n",
       "      <td>-0.010724</td>\n",
       "      <td>0.016480</td>\n",
       "      <td>-0.001218</td>\n",
       "      <td>-0.000421</td>\n",
       "      <td>0.002093</td>\n",
       "      <td>0.010322</td>\n",
       "      <td>-0.002372</td>\n",
       "      <td>0.010100</td>\n",
       "      <td>-0.015025</td>\n",
       "      <td>-0.639630</td>\n",
       "      <td>1.000000</td>\n",
       "      <td>-0.586764</td>\n",
       "    </tr>\n",
       "    <tr>\n",
       "      <th>Technology</th>\n",
       "      <td>0.170260</td>\n",
       "      <td>-0.006991</td>\n",
       "      <td>-0.055077</td>\n",
       "      <td>0.101825</td>\n",
       "      <td>0.011974</td>\n",
       "      <td>-0.002675</td>\n",
       "      <td>0.004260</td>\n",
       "      <td>-0.011012</td>\n",
       "      <td>-0.004310</td>\n",
       "      <td>-0.002318</td>\n",
       "      <td>0.008405</td>\n",
       "      <td>-0.005686</td>\n",
       "      <td>0.004945</td>\n",
       "      <td>-0.004472</td>\n",
       "      <td>0.003895</td>\n",
       "      <td>-0.247135</td>\n",
       "      <td>-0.586764</td>\n",
       "      <td>1.000000</td>\n",
       "    </tr>\n",
       "  </tbody>\n",
       "</table>\n",
       "</div>"
      ],
      "text/plain": [
       "                    sales  quantity  discount    profit  First Class  \\\n",
       "sales            1.000000  0.200795 -0.028190  0.479064    -0.000931   \n",
       "quantity         0.200795  1.000000  0.008623  0.066253    -0.016870   \n",
       "discount        -0.028190  0.008623  1.000000 -0.219487     0.017368   \n",
       "profit           0.479064  0.066253 -0.219487  1.000000     0.005795   \n",
       "First Class     -0.000931 -0.016870  0.017368  0.005795     1.000000   \n",
       "Same Day         0.002515 -0.019391 -0.004422  0.000624    -0.102225   \n",
       "Second Class     0.004915  0.005938 -0.041214  0.001844    -0.209645   \n",
       "Standard Class  -0.004444  0.016580  0.022533 -0.006040    -0.519246   \n",
       "Consumer        -0.010216 -0.013562  0.009761 -0.012515    -0.016570   \n",
       "Corporate        0.004187  0.016011  0.006457  0.005056     0.012225   \n",
       "Home Office      0.008310 -0.001505 -0.020483  0.010268     0.006960   \n",
       "Central         -0.012437 -0.002468  0.224314 -0.027167    -0.038399   \n",
       "East             0.008588 -0.017405 -0.033142  0.009376     0.031768   \n",
       "South            0.008431  0.008528 -0.019068  0.000377    -0.011516   \n",
       "West            -0.003708  0.012334 -0.155915  0.015222     0.013122   \n",
       "Furniture        0.099922 -0.001065  0.044552 -0.044221     0.000403   \n",
       "Office Supplies -0.218568  0.006436  0.006461 -0.043822    -0.009836   \n",
       "Technology       0.170260 -0.006991 -0.055077  0.101825     0.011974   \n",
       "\n",
       "                 Same Day  Second Class  Standard Class  Consumer  Corporate  \\\n",
       "sales            0.002515      0.004915       -0.004444 -0.010216   0.004187   \n",
       "quantity        -0.019391      0.005938        0.016580 -0.013562   0.016011   \n",
       "discount        -0.004422     -0.041214        0.022533  0.009761   0.006457   \n",
       "profit           0.000624      0.001844       -0.006040 -0.012515   0.005056   \n",
       "First Class     -0.102225     -0.209645       -0.519246 -0.016570   0.012225   \n",
       "Same Day         1.000000     -0.117828       -0.291836  0.030888  -0.048146   \n",
       "Second Class    -0.117828      1.000000       -0.598503  0.004929   0.011700   \n",
       "Standard Class  -0.291836     -0.598503        1.000000 -0.006063   0.003813   \n",
       "Consumer         0.030888      0.004929       -0.006063  1.000000  -0.684119   \n",
       "Corporate       -0.048146      0.011700        0.003813 -0.684119   1.000000   \n",
       "Home Office      0.017439     -0.020465        0.003339 -0.484448  -0.306648   \n",
       "Central         -0.006495      0.007722        0.025019  0.002564  -0.014943   \n",
       "East             0.000255     -0.013588       -0.012522 -0.004563   0.007911   \n",
       "South           -0.006011      0.009409        0.003655 -0.001873   0.012101   \n",
       "West             0.010379     -0.001277       -0.013420  0.003572  -0.003683   \n",
       "Furniture        0.004060      0.008788       -0.009267  0.005548   0.002704   \n",
       "Office Supplies -0.001271     -0.010724        0.016480 -0.001218  -0.000421   \n",
       "Technology      -0.002675      0.004260       -0.011012 -0.004310  -0.002318   \n",
       "\n",
       "                 Home Office   Central      East     South      West  \\\n",
       "sales               0.008310 -0.012437  0.008588  0.008431 -0.003708   \n",
       "quantity           -0.001505 -0.002468 -0.017405  0.008528  0.012334   \n",
       "discount           -0.020483  0.224314 -0.033142 -0.019068 -0.155915   \n",
       "profit              0.010268 -0.027167  0.009376  0.000377  0.015222   \n",
       "First Class         0.006960 -0.038399  0.031768 -0.011516  0.013122   \n",
       "Same Day            0.017439 -0.006495  0.000255 -0.006011  0.010379   \n",
       "Second Class       -0.020465  0.007722 -0.013588  0.009409 -0.001277   \n",
       "Standard Class      0.003339  0.025019 -0.012522  0.003655 -0.013420   \n",
       "Consumer           -0.484448  0.002564 -0.004563 -0.001873  0.003572   \n",
       "Corporate          -0.306648 -0.014943  0.007911  0.012101 -0.003683   \n",
       "Home Office         1.000000  0.014578 -0.003534 -0.012069 -0.000245   \n",
       "Central             0.014578  1.000000 -0.347406 -0.242041 -0.377929   \n",
       "East               -0.003534 -0.347406  1.000000 -0.277670 -0.433561   \n",
       "South              -0.012069 -0.242041 -0.277670  1.000000 -0.302067   \n",
       "West               -0.000245 -0.377929 -0.433561 -0.302067  1.000000   \n",
       "Furniture          -0.010483 -0.006955 -0.001856 -0.007841  0.014282   \n",
       "Office Supplies     0.002093  0.010322 -0.002372  0.010100 -0.015025   \n",
       "Technology          0.008405 -0.005686  0.004945 -0.004472  0.003895   \n",
       "\n",
       "                 Furniture  Office Supplies  Technology  \n",
       "sales             0.099922        -0.218568    0.170260  \n",
       "quantity         -0.001065         0.006436   -0.006991  \n",
       "discount          0.044552         0.006461   -0.055077  \n",
       "profit           -0.044221        -0.043822    0.101825  \n",
       "First Class       0.000403        -0.009836    0.011974  \n",
       "Same Day          0.004060        -0.001271   -0.002675  \n",
       "Second Class      0.008788        -0.010724    0.004260  \n",
       "Standard Class   -0.009267         0.016480   -0.011012  \n",
       "Consumer          0.005548        -0.001218   -0.004310  \n",
       "Corporate         0.002704        -0.000421   -0.002318  \n",
       "Home Office      -0.010483         0.002093    0.008405  \n",
       "Central          -0.006955         0.010322   -0.005686  \n",
       "East             -0.001856        -0.002372    0.004945  \n",
       "South            -0.007841         0.010100   -0.004472  \n",
       "West              0.014282        -0.015025    0.003895  \n",
       "Furniture         1.000000        -0.639630   -0.247135  \n",
       "Office Supplies  -0.639630         1.000000   -0.586764  \n",
       "Technology       -0.247135        -0.586764    1.000000  "
      ]
     },
     "execution_count": 101,
     "metadata": {},
     "output_type": "execute_result"
    }
   ],
   "source": [
    "corr"
   ]
  },
  {
   "cell_type": "code",
   "execution_count": 99,
   "id": "ed583b51",
   "metadata": {},
   "outputs": [
    {
     "data": {
      "text/plain": [
       "sales              0.479064\n",
       "quantity           0.066253\n",
       "discount          -0.219487\n",
       "profit             1.000000\n",
       "First Class        0.005795\n",
       "Same Day           0.000624\n",
       "Second Class       0.001844\n",
       "Standard Class    -0.006040\n",
       "Consumer          -0.012515\n",
       "Corporate          0.005056\n",
       "Home Office        0.010268\n",
       "Central           -0.027167\n",
       "East               0.009376\n",
       "South              0.000377\n",
       "West               0.015222\n",
       "Furniture         -0.044221\n",
       "Office Supplies   -0.043822\n",
       "Technology         0.101825\n",
       "Name: profit, dtype: float64"
      ]
     },
     "execution_count": 99,
     "metadata": {},
     "output_type": "execute_result"
    }
   ],
   "source": [
    "corr.profit"
   ]
  },
  {
   "cell_type": "code",
   "execution_count": 102,
   "id": "539448b7",
   "metadata": {},
   "outputs": [],
   "source": [
    "# Select dependent and independent variables\n",
    "y = reg_dummies.profit\n",
    "X = reg_dummies[['First Class', 'Same Day','Second Class', 'Standard Class', 'Consumer', 'Corporate','Home Office', 'Central', 'East', 'South', 'West', 'Furniture','Office Supplies', 'Technology','discount']]"
   ]
  },
  {
   "cell_type": "code",
   "execution_count": 103,
   "id": "9239a9d1",
   "metadata": {},
   "outputs": [],
   "source": [
    "# Divide data into train and test\n",
    "X_train, X_test, y_train, y_test = train_test_split(X, y, test_size=0.25, random_state=42)  "
   ]
  },
  {
   "cell_type": "code",
   "execution_count": 104,
   "id": "54d7d31b",
   "metadata": {},
   "outputs": [
    {
     "data": {
      "text/plain": [
       "LinearRegression()"
      ]
     },
     "execution_count": 104,
     "metadata": {},
     "output_type": "execute_result"
    }
   ],
   "source": [
    "# Train the regression model\n",
    "reg = LinearRegression()  \n",
    "reg.fit(X_train, y_train)"
   ]
  },
  {
   "cell_type": "code",
   "execution_count": 105,
   "id": "7e8c4681",
   "metadata": {},
   "outputs": [
    {
     "data": {
      "text/html": [
       "<div>\n",
       "<style scoped>\n",
       "    .dataframe tbody tr th:only-of-type {\n",
       "        vertical-align: middle;\n",
       "    }\n",
       "\n",
       "    .dataframe tbody tr th {\n",
       "        vertical-align: top;\n",
       "    }\n",
       "\n",
       "    .dataframe thead th {\n",
       "        text-align: right;\n",
       "    }\n",
       "</style>\n",
       "<table border=\"1\" class=\"dataframe\">\n",
       "  <thead>\n",
       "    <tr style=\"text-align: right;\">\n",
       "      <th></th>\n",
       "      <th>Coefficient</th>\n",
       "    </tr>\n",
       "  </thead>\n",
       "  <tbody>\n",
       "    <tr>\n",
       "      <th>First Class</th>\n",
       "      <td>-2.316306e+13</td>\n",
       "    </tr>\n",
       "    <tr>\n",
       "      <th>Same Day</th>\n",
       "      <td>-2.316306e+13</td>\n",
       "    </tr>\n",
       "    <tr>\n",
       "      <th>Second Class</th>\n",
       "      <td>-2.316306e+13</td>\n",
       "    </tr>\n",
       "    <tr>\n",
       "      <th>Standard Class</th>\n",
       "      <td>-2.316306e+13</td>\n",
       "    </tr>\n",
       "    <tr>\n",
       "      <th>Consumer</th>\n",
       "      <td>5.198559e+14</td>\n",
       "    </tr>\n",
       "    <tr>\n",
       "      <th>Corporate</th>\n",
       "      <td>5.198559e+14</td>\n",
       "    </tr>\n",
       "    <tr>\n",
       "      <th>Home Office</th>\n",
       "      <td>5.198559e+14</td>\n",
       "    </tr>\n",
       "    <tr>\n",
       "      <th>Central</th>\n",
       "      <td>8.052236e+13</td>\n",
       "    </tr>\n",
       "    <tr>\n",
       "      <th>East</th>\n",
       "      <td>8.052236e+13</td>\n",
       "    </tr>\n",
       "    <tr>\n",
       "      <th>South</th>\n",
       "      <td>8.052236e+13</td>\n",
       "    </tr>\n",
       "    <tr>\n",
       "      <th>West</th>\n",
       "      <td>8.052236e+13</td>\n",
       "    </tr>\n",
       "    <tr>\n",
       "      <th>Furniture</th>\n",
       "      <td>1.512667e+14</td>\n",
       "    </tr>\n",
       "    <tr>\n",
       "      <th>Office Supplies</th>\n",
       "      <td>1.512667e+14</td>\n",
       "    </tr>\n",
       "    <tr>\n",
       "      <th>Technology</th>\n",
       "      <td>1.512667e+14</td>\n",
       "    </tr>\n",
       "    <tr>\n",
       "      <th>discount</th>\n",
       "      <td>-2.442193e+02</td>\n",
       "    </tr>\n",
       "  </tbody>\n",
       "</table>\n",
       "</div>"
      ],
      "text/plain": [
       "                  Coefficient\n",
       "First Class     -2.316306e+13\n",
       "Same Day        -2.316306e+13\n",
       "Second Class    -2.316306e+13\n",
       "Standard Class  -2.316306e+13\n",
       "Consumer         5.198559e+14\n",
       "Corporate        5.198559e+14\n",
       "Home Office      5.198559e+14\n",
       "Central          8.052236e+13\n",
       "East             8.052236e+13\n",
       "South            8.052236e+13\n",
       "West             8.052236e+13\n",
       "Furniture        1.512667e+14\n",
       "Office Supplies  1.512667e+14\n",
       "Technology       1.512667e+14\n",
       "discount        -2.442193e+02"
      ]
     },
     "execution_count": 105,
     "metadata": {},
     "output_type": "execute_result"
    }
   ],
   "source": [
    "# Extract the coefficient for each variable found by the model\n",
    "attributes_coefficients = pd.DataFrame(reg.coef_, X.columns, columns=['Coefficient'])  \n",
    "attributes_coefficients"
   ]
  },
  {
   "cell_type": "code",
   "execution_count": 106,
   "id": "60734eaa",
   "metadata": {},
   "outputs": [
    {
     "data": {
      "text/html": [
       "<div>\n",
       "<style scoped>\n",
       "    .dataframe tbody tr th:only-of-type {\n",
       "        vertical-align: middle;\n",
       "    }\n",
       "\n",
       "    .dataframe tbody tr th {\n",
       "        vertical-align: top;\n",
       "    }\n",
       "\n",
       "    .dataframe thead th {\n",
       "        text-align: right;\n",
       "    }\n",
       "</style>\n",
       "<table border=\"1\" class=\"dataframe\">\n",
       "  <thead>\n",
       "    <tr style=\"text-align: right;\">\n",
       "      <th></th>\n",
       "      <th>Actual</th>\n",
       "      <th>Predicted</th>\n",
       "    </tr>\n",
       "  </thead>\n",
       "  <tbody>\n",
       "    <tr>\n",
       "      <th>3125</th>\n",
       "      <td>21.1428</td>\n",
       "      <td>12.875</td>\n",
       "    </tr>\n",
       "    <tr>\n",
       "      <th>1441</th>\n",
       "      <td>11.4600</td>\n",
       "      <td>-3.125</td>\n",
       "    </tr>\n",
       "    <tr>\n",
       "      <th>4510</th>\n",
       "      <td>17.1580</td>\n",
       "      <td>63.625</td>\n",
       "    </tr>\n",
       "    <tr>\n",
       "      <th>39</th>\n",
       "      <td>-15.1470</td>\n",
       "      <td>-8.750</td>\n",
       "    </tr>\n",
       "    <tr>\n",
       "      <th>4509</th>\n",
       "      <td>-6.4233</td>\n",
       "      <td>-5.125</td>\n",
       "    </tr>\n",
       "    <tr>\n",
       "      <th>...</th>\n",
       "      <td>...</td>\n",
       "      <td>...</td>\n",
       "    </tr>\n",
       "    <tr>\n",
       "      <th>4023</th>\n",
       "      <td>6.5490</td>\n",
       "      <td>18.500</td>\n",
       "    </tr>\n",
       "    <tr>\n",
       "      <th>5635</th>\n",
       "      <td>28.8960</td>\n",
       "      <td>1.750</td>\n",
       "    </tr>\n",
       "    <tr>\n",
       "      <th>6685</th>\n",
       "      <td>-19.7372</td>\n",
       "      <td>-86.250</td>\n",
       "    </tr>\n",
       "    <tr>\n",
       "      <th>6750</th>\n",
       "      <td>20.7332</td>\n",
       "      <td>50.500</td>\n",
       "    </tr>\n",
       "    <tr>\n",
       "      <th>1101</th>\n",
       "      <td>2.5056</td>\n",
       "      <td>58.500</td>\n",
       "    </tr>\n",
       "  </tbody>\n",
       "</table>\n",
       "<p>2499 rows × 2 columns</p>\n",
       "</div>"
      ],
      "text/plain": [
       "       Actual  Predicted\n",
       "3125  21.1428     12.875\n",
       "1441  11.4600     -3.125\n",
       "4510  17.1580     63.625\n",
       "39   -15.1470     -8.750\n",
       "4509  -6.4233     -5.125\n",
       "...       ...        ...\n",
       "4023   6.5490     18.500\n",
       "5635  28.8960      1.750\n",
       "6685 -19.7372    -86.250\n",
       "6750  20.7332     50.500\n",
       "1101   2.5056     58.500\n",
       "\n",
       "[2499 rows x 2 columns]"
      ]
     },
     "execution_count": 106,
     "metadata": {},
     "output_type": "execute_result"
    }
   ],
   "source": [
    "# Test the performance of the model\n",
    "y_pred = reg.predict(X_test)\n",
    "\n",
    "comparison = pd.DataFrame({'Actual': y_test, 'Predicted': y_pred})  \n",
    "comparison"
   ]
  },
  {
   "cell_type": "code",
   "execution_count": 109,
   "id": "fb32880e",
   "metadata": {},
   "outputs": [
    {
     "name": "stdout",
     "output_type": "stream",
     "text": [
      "MAE: 74.11928483393356\n",
      "MSE: 49485.621966170074\n",
      "RMSE: 222.45364003803147\n"
     ]
    }
   ],
   "source": [
    "from sklearn import metrics  \n",
    "print('MAE:', metrics.mean_absolute_error(y_test, y_pred))  \n",
    "print('MSE:', metrics.mean_squared_error(y_test, y_pred))  \n",
    "print('RMSE:', np.sqrt(metrics.mean_squared_error(y_test, y_pred)))  "
   ]
  },
  {
   "cell_type": "code",
   "execution_count": null,
   "id": "19cc9a52",
   "metadata": {},
   "outputs": [],
   "source": []
  },
  {
   "cell_type": "code",
   "execution_count": null,
   "id": "f1c3105e",
   "metadata": {},
   "outputs": [],
   "source": []
  }
 ],
 "metadata": {
  "kernelspec": {
   "display_name": "Python 3 (ipykernel)",
   "language": "python",
   "name": "python3"
  },
  "language_info": {
   "codemirror_mode": {
    "name": "ipython",
    "version": 3
   },
   "file_extension": ".py",
   "mimetype": "text/x-python",
   "name": "python",
   "nbconvert_exporter": "python",
   "pygments_lexer": "ipython3",
   "version": "3.9.7"
  }
 },
 "nbformat": 4,
 "nbformat_minor": 5
}
